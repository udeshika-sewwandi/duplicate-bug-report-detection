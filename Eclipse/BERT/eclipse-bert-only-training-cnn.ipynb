{
 "cells": [
  {
   "cell_type": "code",
   "execution_count": 1,
   "id": "2bb73b86",
   "metadata": {
    "_cell_guid": "b1076dfc-b9ad-4769-8c92-a6c4dae69d19",
    "_uuid": "8f2839f25d086af736a60e9eeb907d3b93b6e0e5",
    "execution": {
     "iopub.execute_input": "2022-03-20T12:34:11.504573Z",
     "iopub.status.busy": "2022-03-20T12:34:11.503107Z",
     "iopub.status.idle": "2022-03-20T12:34:11.520223Z",
     "shell.execute_reply": "2022-03-20T12:34:11.520830Z",
     "shell.execute_reply.started": "2022-03-05T20:00:45.486353Z"
    },
    "papermill": {
     "duration": 0.059035,
     "end_time": "2022-03-20T12:34:11.521132",
     "exception": false,
     "start_time": "2022-03-20T12:34:11.462097",
     "status": "completed"
    },
    "tags": []
   },
   "outputs": [
    {
     "name": "stdout",
     "output_type": "stream",
     "text": [
      "/kaggle/input/eclipse-preprocessed5new/eclipse_preprocessed_os.csv\n"
     ]
    }
   ],
   "source": [
    "# This Python 3 environment comes with many helpful analytics libraries installed\n",
    "# It is defined by the kaggle/python Docker image: https://github.com/kaggle/docker-python\n",
    "# For example, here's several helpful packages to load\n",
    "\n",
    "import numpy as np # linear algebra\n",
    "import pandas as pd # data processing, CSV file I/O (e.g. pd.read_csv)\n",
    "\n",
    "# Input data files are available in the read-only \"../input/\" directory\n",
    "# For example, running this (by clicking run or pressing Shift+Enter) will list all files under the input directory\n",
    "\n",
    "import os\n",
    "for dirname, _, filenames in os.walk('/kaggle/input'):\n",
    "    for filename in filenames:\n",
    "        print(os.path.join(dirname, filename))\n",
    "\n",
    "# You can write up to 20GB to the current directory (/kaggle/working/) that gets preserved as output when you create a version using \"Save & Run All\" \n",
    "# You can also write temporary files to /kaggle/temp/, but they won't be saved outside of the current session"
   ]
  },
  {
   "cell_type": "code",
   "execution_count": 2,
   "id": "d08bc13a",
   "metadata": {
    "execution": {
     "iopub.execute_input": "2022-03-20T12:34:11.600342Z",
     "iopub.status.busy": "2022-03-20T12:34:11.599546Z",
     "iopub.status.idle": "2022-03-20T12:34:12.568196Z",
     "shell.execute_reply": "2022-03-20T12:34:12.567694Z",
     "shell.execute_reply.started": "2022-03-05T20:00:45.559718Z"
    },
    "papermill": {
     "duration": 1.009002,
     "end_time": "2022-03-20T12:34:12.568343",
     "exception": false,
     "start_time": "2022-03-20T12:34:11.559341",
     "status": "completed"
    },
    "tags": []
   },
   "outputs": [],
   "source": [
    "!wget --quiet https://raw.githubusercontent.com/tensorflow/models/master/official/nlp/tools/tokenization.py"
   ]
  },
  {
   "cell_type": "code",
   "execution_count": 3,
   "id": "45f797b4",
   "metadata": {
    "execution": {
     "iopub.execute_input": "2022-03-20T12:34:12.651611Z",
     "iopub.status.busy": "2022-03-20T12:34:12.646829Z",
     "iopub.status.idle": "2022-03-20T12:34:21.746853Z",
     "shell.execute_reply": "2022-03-20T12:34:21.745927Z",
     "shell.execute_reply.started": "2022-03-05T20:00:46.656121Z"
    },
    "papermill": {
     "duration": 9.141848,
     "end_time": "2022-03-20T12:34:21.746995",
     "exception": false,
     "start_time": "2022-03-20T12:34:12.605147",
     "status": "completed"
    },
    "tags": []
   },
   "outputs": [
    {
     "name": "stdout",
     "output_type": "stream",
     "text": [
      "Requirement already satisfied: sentencepiece in /opt/conda/lib/python3.7/site-packages (0.1.96)\r\n",
      "\u001b[33mWARNING: Running pip as the 'root' user can result in broken permissions and conflicting behaviour with the system package manager. It is recommended to use a virtual environment instead: https://pip.pypa.io/warnings/venv\u001b[0m\r\n"
     ]
    }
   ],
   "source": [
    "!pip install sentencepiece"
   ]
  },
  {
   "cell_type": "code",
   "execution_count": 4,
   "id": "59c465f2",
   "metadata": {
    "execution": {
     "iopub.execute_input": "2022-03-20T12:34:21.827471Z",
     "iopub.status.busy": "2022-03-20T12:34:21.826749Z",
     "iopub.status.idle": "2022-03-20T12:34:29.108730Z",
     "shell.execute_reply": "2022-03-20T12:34:29.108253Z",
     "shell.execute_reply.started": "2022-03-05T20:00:58.888928Z"
    },
    "papermill": {
     "duration": 7.32277,
     "end_time": "2022-03-20T12:34:29.108863",
     "exception": false,
     "start_time": "2022-03-20T12:34:21.786093",
     "status": "completed"
    },
    "tags": []
   },
   "outputs": [
    {
     "name": "stdout",
     "output_type": "stream",
     "text": [
      "Requirement already satisfied: tensorflow_hub in /opt/conda/lib/python3.7/site-packages (0.12.0)\r\n",
      "Requirement already satisfied: protobuf>=3.8.0 in /opt/conda/lib/python3.7/site-packages (from tensorflow_hub) (3.19.4)\r\n",
      "Requirement already satisfied: numpy>=1.12.0 in /opt/conda/lib/python3.7/site-packages (from tensorflow_hub) (1.20.3)\r\n",
      "\u001b[33mWARNING: Running pip as the 'root' user can result in broken permissions and conflicting behaviour with the system package manager. It is recommended to use a virtual environment instead: https://pip.pypa.io/warnings/venv\u001b[0m\r\n"
     ]
    }
   ],
   "source": [
    "!pip install tensorflow_hub"
   ]
  },
  {
   "cell_type": "code",
   "execution_count": 5,
   "id": "a0341851",
   "metadata": {
    "execution": {
     "iopub.execute_input": "2022-03-20T12:34:29.190236Z",
     "iopub.status.busy": "2022-03-20T12:34:29.189503Z",
     "iopub.status.idle": "2022-03-20T12:34:36.302803Z",
     "shell.execute_reply": "2022-03-20T12:34:36.301811Z",
     "shell.execute_reply.started": "2022-03-05T20:01:08.822792Z"
    },
    "papermill": {
     "duration": 7.155026,
     "end_time": "2022-03-20T12:34:36.302960",
     "exception": false,
     "start_time": "2022-03-20T12:34:29.147934",
     "status": "completed"
    },
    "tags": []
   },
   "outputs": [
    {
     "name": "stdout",
     "output_type": "stream",
     "text": [
      "Requirement already satisfied: torch in /opt/conda/lib/python3.7/site-packages (1.9.1)\r\n",
      "Requirement already satisfied: typing-extensions in /opt/conda/lib/python3.7/site-packages (from torch) (4.1.1)\r\n",
      "\u001b[33mWARNING: Running pip as the 'root' user can result in broken permissions and conflicting behaviour with the system package manager. It is recommended to use a virtual environment instead: https://pip.pypa.io/warnings/venv\u001b[0m\r\n"
     ]
    }
   ],
   "source": [
    "!pip install torch"
   ]
  },
  {
   "cell_type": "code",
   "execution_count": 6,
   "id": "42ff9f37",
   "metadata": {
    "execution": {
     "iopub.execute_input": "2022-03-20T12:34:36.385899Z",
     "iopub.status.busy": "2022-03-20T12:34:36.385381Z",
     "iopub.status.idle": "2022-03-20T12:34:38.039620Z",
     "shell.execute_reply": "2022-03-20T12:34:38.040256Z",
     "shell.execute_reply.started": "2022-03-05T20:01:18.742838Z"
    },
    "papermill": {
     "duration": 1.698962,
     "end_time": "2022-03-20T12:34:38.040464",
     "exception": false,
     "start_time": "2022-03-20T12:34:36.341502",
     "status": "completed"
    },
    "tags": []
   },
   "outputs": [
    {
     "name": "stdout",
     "output_type": "stream",
     "text": [
      "[nltk_data] Downloading package punkt to /usr/share/nltk_data...\n",
      "[nltk_data]   Package punkt is already up-to-date!\n",
      "[nltk_data] Downloading package stopwords to /usr/share/nltk_data...\n",
      "[nltk_data]   Package stopwords is already up-to-date!\n",
      "[nltk_data] Downloading package words to /usr/share/nltk_data...\n",
      "[nltk_data]   Package words is already up-to-date!\n"
     ]
    }
   ],
   "source": [
    "import nltk\n",
    "nltk.download('punkt')\n",
    "nltk.download(\"stopwords\")\n",
    "nltk.download(\"words\")\n",
    "from nltk.corpus import stopwords\n",
    "from nltk.corpus import words\n",
    "# words = set(nltk.corpus.words.words())"
   ]
  },
  {
   "cell_type": "code",
   "execution_count": 7,
   "id": "05817cef",
   "metadata": {
    "execution": {
     "iopub.execute_input": "2022-03-20T12:34:38.124714Z",
     "iopub.status.busy": "2022-03-20T12:34:38.123127Z",
     "iopub.status.idle": "2022-03-20T12:34:38.125356Z",
     "shell.execute_reply": "2022-03-20T12:34:38.125773Z",
     "shell.execute_reply.started": "2022-03-05T20:01:20.598751Z"
    },
    "papermill": {
     "duration": 0.045598,
     "end_time": "2022-03-20T12:34:38.125898",
     "exception": false,
     "start_time": "2022-03-20T12:34:38.080300",
     "status": "completed"
    },
    "tags": []
   },
   "outputs": [],
   "source": [
    "import pandas as pd\n",
    "import numpy as np\n",
    "from random import seed\n",
    "from random import randint\n",
    "import random\n",
    "import string\n",
    "import re\n",
    "import matplotlib.pyplot as plt\n",
    "# from google.colab import drive\n",
    "# drive.mount('/content/drive')"
   ]
  },
  {
   "cell_type": "code",
   "execution_count": 8,
   "id": "025de065",
   "metadata": {
    "execution": {
     "iopub.execute_input": "2022-03-20T12:34:38.208034Z",
     "iopub.status.busy": "2022-03-20T12:34:38.207471Z",
     "iopub.status.idle": "2022-03-20T12:34:42.931499Z",
     "shell.execute_reply": "2022-03-20T12:34:42.930318Z",
     "shell.execute_reply.started": "2022-03-05T20:01:20.608334Z"
    },
    "papermill": {
     "duration": 4.767229,
     "end_time": "2022-03-20T12:34:42.931634",
     "exception": false,
     "start_time": "2022-03-20T12:34:38.164405",
     "status": "completed"
    },
    "tags": []
   },
   "outputs": [],
   "source": [
    "from tensorflow.keras.layers import Dense, Input, Reshape, Conv1D, Conv2D, BatchNormalization, MaxPooling1D, MaxPooling2D, Flatten\n",
    "from tensorflow.keras.optimizers import Adam\n",
    "from tensorflow.keras.models import Model, Sequential\n",
    "import tensorflow_hub as hub\n",
    "import tensorflow as tf\n",
    "from sklearn.model_selection import train_test_split\n",
    "import tokenization\n",
    "from sklearn.model_selection import StratifiedKFold"
   ]
  },
  {
   "cell_type": "code",
   "execution_count": 9,
   "id": "662e5904",
   "metadata": {
    "execution": {
     "iopub.execute_input": "2022-03-20T12:34:43.012916Z",
     "iopub.status.busy": "2022-03-20T12:34:43.012383Z",
     "iopub.status.idle": "2022-03-20T12:34:44.715034Z",
     "shell.execute_reply": "2022-03-20T12:34:44.714468Z",
     "shell.execute_reply.started": "2022-03-05T20:01:27.547838Z"
    },
    "papermill": {
     "duration": 1.744483,
     "end_time": "2022-03-20T12:34:44.715165",
     "exception": false,
     "start_time": "2022-03-20T12:34:42.970682",
     "status": "completed"
    },
    "tags": []
   },
   "outputs": [
    {
     "name": "stderr",
     "output_type": "stream",
     "text": [
      "2022-03-20 12:34:43.016291: I tensorflow/core/platform/cpu_feature_guard.cc:142] This TensorFlow binary is optimized with oneAPI Deep Neural Network Library (oneDNN) to use the following CPU instructions in performance-critical operations:  AVX2 AVX512F FMA\n",
      "To enable them in other operations, rebuild TensorFlow with the appropriate compiler flags.\n",
      "2022-03-20 12:34:43.063740: I tensorflow/stream_executor/cuda/cuda_gpu_executor.cc:937] successful NUMA node read from SysFS had negative value (-1), but there must be at least one NUMA node, so returning NUMA node zero\n",
      "2022-03-20 12:34:43.147445: I tensorflow/stream_executor/cuda/cuda_gpu_executor.cc:937] successful NUMA node read from SysFS had negative value (-1), but there must be at least one NUMA node, so returning NUMA node zero\n",
      "2022-03-20 12:34:43.148475: I tensorflow/stream_executor/cuda/cuda_gpu_executor.cc:937] successful NUMA node read from SysFS had negative value (-1), but there must be at least one NUMA node, so returning NUMA node zero\n",
      "2022-03-20 12:34:44.704080: I tensorflow/stream_executor/cuda/cuda_gpu_executor.cc:937] successful NUMA node read from SysFS had negative value (-1), but there must be at least one NUMA node, so returning NUMA node zero\n",
      "2022-03-20 12:34:44.705301: I tensorflow/stream_executor/cuda/cuda_gpu_executor.cc:937] successful NUMA node read from SysFS had negative value (-1), but there must be at least one NUMA node, so returning NUMA node zero\n",
      "2022-03-20 12:34:44.706458: I tensorflow/stream_executor/cuda/cuda_gpu_executor.cc:937] successful NUMA node read from SysFS had negative value (-1), but there must be at least one NUMA node, so returning NUMA node zero\n",
      "2022-03-20 12:34:44.707451: I tensorflow/core/common_runtime/gpu/gpu_device.cc:1510] Created device /job:localhost/replica:0/task:0/device:GPU:0 with 15403 MB memory:  -> device: 0, name: Tesla P100-PCIE-16GB, pci bus id: 0000:00:04.0, compute capability: 6.0\n"
     ]
    }
   ],
   "source": [
    "gpu_options = tf.compat.v1.GPUOptions(allow_growth=True)\n",
    "session = tf.compat.v1.InteractiveSession(config=tf.compat.v1.ConfigProto(gpu_options=gpu_options))"
   ]
  },
  {
   "cell_type": "code",
   "execution_count": 10,
   "id": "fa04a23e",
   "metadata": {
    "execution": {
     "iopub.execute_input": "2022-03-20T12:34:44.797307Z",
     "iopub.status.busy": "2022-03-20T12:34:44.796693Z",
     "iopub.status.idle": "2022-03-20T12:34:44.878912Z",
     "shell.execute_reply": "2022-03-20T12:34:44.878456Z",
     "shell.execute_reply.started": "2022-03-05T20:01:30.044169Z"
    },
    "papermill": {
     "duration": 0.125282,
     "end_time": "2022-03-20T12:34:44.879076",
     "exception": false,
     "start_time": "2022-03-20T12:34:44.753794",
     "status": "completed"
    },
    "tags": []
   },
   "outputs": [],
   "source": [
    "seed(1)\n",
    "stop_words = stopwords.words('english')\n",
    "words=words.words()"
   ]
  },
  {
   "cell_type": "code",
   "execution_count": 11,
   "id": "6525dcd6",
   "metadata": {
    "execution": {
     "iopub.execute_input": "2022-03-20T12:34:44.960948Z",
     "iopub.status.busy": "2022-03-20T12:34:44.960299Z",
     "iopub.status.idle": "2022-03-20T12:34:44.963126Z",
     "shell.execute_reply": "2022-03-20T12:34:44.962647Z",
     "shell.execute_reply.started": "2022-03-05T20:01:30.14914Z"
    },
    "papermill": {
     "duration": 0.045175,
     "end_time": "2022-03-20T12:34:44.963241",
     "exception": false,
     "start_time": "2022-03-20T12:34:44.918066",
     "status": "completed"
    },
    "tags": []
   },
   "outputs": [],
   "source": [
    "# train_indices = []\n",
    "# test_indices = []\n",
    "\n",
    "# with open('../input/eclipse-train-test5/train5_dt5.txt') as f:\n",
    "#     train_indices = f.readlines()\n",
    "\n",
    "# with open('../input/eclipse-train-test5/test5_dt5.txt') as f:\n",
    "#     test_indices = f.readlines()"
   ]
  },
  {
   "cell_type": "code",
   "execution_count": 12,
   "id": "5aa26157",
   "metadata": {
    "execution": {
     "iopub.execute_input": "2022-03-20T12:34:45.046293Z",
     "iopub.status.busy": "2022-03-20T12:34:45.045489Z",
     "iopub.status.idle": "2022-03-20T12:34:45.048132Z",
     "shell.execute_reply": "2022-03-20T12:34:45.047698Z",
     "shell.execute_reply.started": "2022-03-05T20:01:30.263064Z"
    },
    "papermill": {
     "duration": 0.045021,
     "end_time": "2022-03-20T12:34:45.048245",
     "exception": false,
     "start_time": "2022-03-20T12:34:45.003224",
     "status": "completed"
    },
    "tags": []
   },
   "outputs": [],
   "source": [
    "# train_indices = [int(tr.split('\\n')[0]) for tr in train_indices]"
   ]
  },
  {
   "cell_type": "code",
   "execution_count": 13,
   "id": "f15e22d7",
   "metadata": {
    "execution": {
     "iopub.execute_input": "2022-03-20T12:34:45.133175Z",
     "iopub.status.busy": "2022-03-20T12:34:45.132385Z",
     "iopub.status.idle": "2022-03-20T12:34:45.134724Z",
     "shell.execute_reply": "2022-03-20T12:34:45.134316Z",
     "shell.execute_reply.started": "2022-03-05T20:01:30.362067Z"
    },
    "papermill": {
     "duration": 0.047433,
     "end_time": "2022-03-20T12:34:45.134832",
     "exception": false,
     "start_time": "2022-03-20T12:34:45.087399",
     "status": "completed"
    },
    "tags": []
   },
   "outputs": [],
   "source": [
    "# len(train_indices)"
   ]
  },
  {
   "cell_type": "code",
   "execution_count": 14,
   "id": "ad87f00a",
   "metadata": {
    "execution": {
     "iopub.execute_input": "2022-03-20T12:34:45.214620Z",
     "iopub.status.busy": "2022-03-20T12:34:45.213824Z",
     "iopub.status.idle": "2022-03-20T12:34:45.217169Z",
     "shell.execute_reply": "2022-03-20T12:34:45.216717Z",
     "shell.execute_reply.started": "2022-03-05T20:01:30.37546Z"
    },
    "papermill": {
     "duration": 0.043884,
     "end_time": "2022-03-20T12:34:45.217278",
     "exception": false,
     "start_time": "2022-03-20T12:34:45.173394",
     "status": "completed"
    },
    "tags": []
   },
   "outputs": [],
   "source": [
    "# test_indices  = [int(te.split('\\n')[0]) for te in test_indices]"
   ]
  },
  {
   "cell_type": "code",
   "execution_count": 15,
   "id": "ebf61626",
   "metadata": {
    "execution": {
     "iopub.execute_input": "2022-03-20T12:34:45.298756Z",
     "iopub.status.busy": "2022-03-20T12:34:45.298084Z",
     "iopub.status.idle": "2022-03-20T12:34:45.300724Z",
     "shell.execute_reply": "2022-03-20T12:34:45.300336Z",
     "shell.execute_reply.started": "2022-03-05T20:01:30.417274Z"
    },
    "papermill": {
     "duration": 0.044592,
     "end_time": "2022-03-20T12:34:45.300827",
     "exception": false,
     "start_time": "2022-03-20T12:34:45.256235",
     "status": "completed"
    },
    "tags": []
   },
   "outputs": [],
   "source": [
    "# len(test_indices)"
   ]
  },
  {
   "cell_type": "code",
   "execution_count": 16,
   "id": "ac8ea206",
   "metadata": {
    "execution": {
     "iopub.execute_input": "2022-03-20T12:34:45.393233Z",
     "iopub.status.busy": "2022-03-20T12:34:45.392634Z",
     "iopub.status.idle": "2022-03-20T12:34:54.320568Z",
     "shell.execute_reply": "2022-03-20T12:34:54.321048Z",
     "shell.execute_reply.started": "2022-03-05T20:01:30.429534Z"
    },
    "papermill": {
     "duration": 8.976792,
     "end_time": "2022-03-20T12:34:54.321211",
     "exception": false,
     "start_time": "2022-03-20T12:34:45.344419",
     "status": "completed"
    },
    "tags": []
   },
   "outputs": [
    {
     "name": "stderr",
     "output_type": "stream",
     "text": [
      "/opt/conda/lib/python3.7/site-packages/IPython/core/interactiveshell.py:3457: DtypeWarning: Columns (4) have mixed types.Specify dtype option on import or set low_memory=False.\n",
      "  exec(code_obj, self.user_global_ns, self.user_ns)\n"
     ]
    },
    {
     "data": {
      "text/html": [
       "<div>\n",
       "<style scoped>\n",
       "    .dataframe tbody tr th:only-of-type {\n",
       "        vertical-align: middle;\n",
       "    }\n",
       "\n",
       "    .dataframe tbody tr th {\n",
       "        vertical-align: top;\n",
       "    }\n",
       "\n",
       "    .dataframe thead th {\n",
       "        text-align: right;\n",
       "    }\n",
       "</style>\n",
       "<table border=\"1\" class=\"dataframe\">\n",
       "  <thead>\n",
       "    <tr style=\"text-align: right;\">\n",
       "      <th></th>\n",
       "      <th>Unnamed: 0</th>\n",
       "      <th>bug_id</th>\n",
       "      <th>description1</th>\n",
       "      <th>short_desc1</th>\n",
       "      <th>dup_id</th>\n",
       "      <th>resolution</th>\n",
       "      <th>product</th>\n",
       "      <th>component</th>\n",
       "      <th>description2</th>\n",
       "      <th>short_desc2</th>\n",
       "      <th>duplicate</th>\n",
       "    </tr>\n",
       "  </thead>\n",
       "  <tbody>\n",
       "    <tr>\n",
       "      <th>0</th>\n",
       "      <td>59556</td>\n",
       "      <td>62303</td>\n",
       "      <td>There should be some global dialog or preferen...</td>\n",
       "      <td>[Keybindings] Provide a list of all keybindings</td>\n",
       "      <td>37439</td>\n",
       "      <td>DUPLICATE</td>\n",
       "      <td>Platform</td>\n",
       "      <td>UI</td>\n",
       "      <td>35722    it would be very useful it if were po...</td>\n",
       "      <td>35722    [KeyBindings] preference page: add a ...</td>\n",
       "      <td>1</td>\n",
       "    </tr>\n",
       "    <tr>\n",
       "      <th>1</th>\n",
       "      <td>25380</td>\n",
       "      <td>26824</td>\n",
       "      <td>When class X has a private field F, and code i...</td>\n",
       "      <td>New auto-suggestion; add 'generate getXxx' whe...</td>\n",
       "      <td>28068</td>\n",
       "      <td>DUPLICATE</td>\n",
       "      <td>JDT</td>\n",
       "      <td>UI</td>\n",
       "      <td>26619    I have two classes:\\nA - with private...</td>\n",
       "      <td>26619    [quick fix] Greate getter for \"Field ...</td>\n",
       "      <td>1</td>\n",
       "    </tr>\n",
       "    <tr>\n",
       "      <th>2</th>\n",
       "      <td>84739</td>\n",
       "      <td>89233</td>\n",
       "      <td>Need to complete a WSDL model core API accordi...</td>\n",
       "      <td>Need to define WSDL Core API</td>\n",
       "      <td>89291</td>\n",
       "      <td>DUPLICATE</td>\n",
       "      <td>WTP Webservices</td>\n",
       "      <td>wst.wsdl</td>\n",
       "      <td>84804    Need to complete a WSDL model core AP...</td>\n",
       "      <td>84804    Need to define WSDL Core API</td>\n",
       "      <td>1</td>\n",
       "    </tr>\n",
       "    <tr>\n",
       "      <th>3</th>\n",
       "      <td>145562</td>\n",
       "      <td>155467</td>\n",
       "      <td>Build: RSA-M20060802-0800\\n\\nSteps:\\n1)   Wind...</td>\n",
       "      <td>No error message displays when choose an inval...</td>\n",
       "      <td>155442</td>\n",
       "      <td>DUPLICATE</td>\n",
       "      <td>EPF</td>\n",
       "      <td>Tool</td>\n",
       "      <td>145537    Build: RSA-M20060802-0800\\n\\nSteps:\\...</td>\n",
       "      <td>145537    No error message displays when choos...</td>\n",
       "      <td>1</td>\n",
       "    </tr>\n",
       "    <tr>\n",
       "      <th>4</th>\n",
       "      <td>186715</td>\n",
       "      <td>201768</td>\n",
       "      <td>Build ID: I20070625-1500\\n\\nSteps To Reproduce...</td>\n",
       "      <td>Should be able to middle click on editor/ view...</td>\n",
       "      <td>156792</td>\n",
       "      <td>DUPLICATE</td>\n",
       "      <td>Platform</td>\n",
       "      <td>UI</td>\n",
       "      <td>146782    It would be ui-friendly if the tabs ...</td>\n",
       "      <td>146782    [EditorMgmt] Close a Tab with the mi...</td>\n",
       "      <td>1</td>\n",
       "    </tr>\n",
       "    <tr>\n",
       "      <th>...</th>\n",
       "      <td>...</td>\n",
       "      <td>...</td>\n",
       "      <td>...</td>\n",
       "      <td>...</td>\n",
       "      <td>...</td>\n",
       "      <td>...</td>\n",
       "      <td>...</td>\n",
       "      <td>...</td>\n",
       "      <td>...</td>\n",
       "      <td>...</td>\n",
       "      <td>...</td>\n",
       "    </tr>\n",
       "    <tr>\n",
       "      <th>241158</th>\n",
       "      <td>189743</td>\n",
       "      <td>205251</td>\n",
       "      <td>Build ID: M20060921-0945\\n\\nSteps To Reproduce...</td>\n",
       "      <td>CVS username disallows full kerberos names</td>\n",
       "      <td>[]</td>\n",
       "      <td>FIXED</td>\n",
       "      <td>Platform</td>\n",
       "      <td>CVS</td>\n",
       "      <td>The current TPTP source locator only searches ...</td>\n",
       "      <td>Need non-Java centric extensible source locator</td>\n",
       "      <td>0</td>\n",
       "    </tr>\n",
       "    <tr>\n",
       "      <th>241159</th>\n",
       "      <td>16340</td>\n",
       "      <td>17624</td>\n",
       "      <td>F1 Linux Motif \\n\\nMnemonics do not work in ec...</td>\n",
       "      <td>Mnemonics do not work</td>\n",
       "      <td>[]</td>\n",
       "      <td>NDUPLICATE</td>\n",
       "      <td>Platform</td>\n",
       "      <td>SWT</td>\n",
       "      <td>Build Identifier: 4.7.0_201004221916\\n\\nPrevio...</td>\n",
       "      <td>Execution Statistics view is populated even wh...</td>\n",
       "      <td>0</td>\n",
       "    </tr>\n",
       "    <tr>\n",
       "      <th>241160</th>\n",
       "      <td>285393</td>\n",
       "      <td>320100</td>\n",
       "      <td>1. Open a fresh e4 workbench\\n2. Leave the Pac...</td>\n",
       "      <td>Package Explorer unexpectedly added to Debug p...</td>\n",
       "      <td>[]</td>\n",
       "      <td>FIXED</td>\n",
       "      <td>e4</td>\n",
       "      <td>UI</td>\n",
       "      <td>\"Content Assist\" did not complete normally.  P...</td>\n",
       "      <td>\"Content Assist\" did not complete normally.</td>\n",
       "      <td>0</td>\n",
       "    </tr>\n",
       "    <tr>\n",
       "      <th>241161</th>\n",
       "      <td>237512</td>\n",
       "      <td>261239</td>\n",
       "      <td>Created attachment 122704\\nImage of the proble...</td>\n",
       "      <td>SWT Styled Text corrupts screen in Arabic on M...</td>\n",
       "      <td>[]</td>\n",
       "      <td>INVALID</td>\n",
       "      <td>Platform</td>\n",
       "      <td>SWT</td>\n",
       "      <td>When comparing files which contain CVS keyword...</td>\n",
       "      <td>Option to ignore CVS keywords</td>\n",
       "      <td>0</td>\n",
       "    </tr>\n",
       "    <tr>\n",
       "      <th>241162</th>\n",
       "      <td>129713</td>\n",
       "      <td>138062</td>\n",
       "      <td>N20060421-0010\\n\\non XP, I get this error from...</td>\n",
       "      <td>NPE in getData</td>\n",
       "      <td>[]</td>\n",
       "      <td>FIXED</td>\n",
       "      <td>Platform</td>\n",
       "      <td>SWT</td>\n",
       "      <td>Original Jira : http://nattable.org/jira/brows...</td>\n",
       "      <td>Imported: Control-Click on a cell does not sel...</td>\n",
       "      <td>0</td>\n",
       "    </tr>\n",
       "  </tbody>\n",
       "</table>\n",
       "<p>241163 rows × 11 columns</p>\n",
       "</div>"
      ],
      "text/plain": [
       "        Unnamed: 0  bug_id                                       description1  \\\n",
       "0            59556   62303  There should be some global dialog or preferen...   \n",
       "1            25380   26824  When class X has a private field F, and code i...   \n",
       "2            84739   89233  Need to complete a WSDL model core API accordi...   \n",
       "3           145562  155467  Build: RSA-M20060802-0800\\n\\nSteps:\\n1)   Wind...   \n",
       "4           186715  201768  Build ID: I20070625-1500\\n\\nSteps To Reproduce...   \n",
       "...            ...     ...                                                ...   \n",
       "241158      189743  205251  Build ID: M20060921-0945\\n\\nSteps To Reproduce...   \n",
       "241159       16340   17624  F1 Linux Motif \\n\\nMnemonics do not work in ec...   \n",
       "241160      285393  320100  1. Open a fresh e4 workbench\\n2. Leave the Pac...   \n",
       "241161      237512  261239  Created attachment 122704\\nImage of the proble...   \n",
       "241162      129713  138062  N20060421-0010\\n\\non XP, I get this error from...   \n",
       "\n",
       "                                              short_desc1  dup_id  resolution  \\\n",
       "0         [Keybindings] Provide a list of all keybindings   37439   DUPLICATE   \n",
       "1       New auto-suggestion; add 'generate getXxx' whe...   28068   DUPLICATE   \n",
       "2                            Need to define WSDL Core API   89291   DUPLICATE   \n",
       "3       No error message displays when choose an inval...  155442   DUPLICATE   \n",
       "4       Should be able to middle click on editor/ view...  156792   DUPLICATE   \n",
       "...                                                   ...     ...         ...   \n",
       "241158         CVS username disallows full kerberos names      []       FIXED   \n",
       "241159                              Mnemonics do not work      []  NDUPLICATE   \n",
       "241160  Package Explorer unexpectedly added to Debug p...      []       FIXED   \n",
       "241161  SWT Styled Text corrupts screen in Arabic on M...      []     INVALID   \n",
       "241162                                     NPE in getData      []       FIXED   \n",
       "\n",
       "                product component  \\\n",
       "0              Platform        UI   \n",
       "1                   JDT        UI   \n",
       "2       WTP Webservices  wst.wsdl   \n",
       "3                   EPF      Tool   \n",
       "4              Platform        UI   \n",
       "...                 ...       ...   \n",
       "241158         Platform       CVS   \n",
       "241159         Platform       SWT   \n",
       "241160               e4        UI   \n",
       "241161         Platform       SWT   \n",
       "241162         Platform       SWT   \n",
       "\n",
       "                                             description2  \\\n",
       "0       35722    it would be very useful it if were po...   \n",
       "1       26619    I have two classes:\\nA - with private...   \n",
       "2       84804    Need to complete a WSDL model core AP...   \n",
       "3       145537    Build: RSA-M20060802-0800\\n\\nSteps:\\...   \n",
       "4       146782    It would be ui-friendly if the tabs ...   \n",
       "...                                                   ...   \n",
       "241158  The current TPTP source locator only searches ...   \n",
       "241159  Build Identifier: 4.7.0_201004221916\\n\\nPrevio...   \n",
       "241160  \"Content Assist\" did not complete normally.  P...   \n",
       "241161  When comparing files which contain CVS keyword...   \n",
       "241162  Original Jira : http://nattable.org/jira/brows...   \n",
       "\n",
       "                                              short_desc2  duplicate  \n",
       "0       35722    [KeyBindings] preference page: add a ...          1  \n",
       "1       26619    [quick fix] Greate getter for \"Field ...          1  \n",
       "2                   84804    Need to define WSDL Core API          1  \n",
       "3       145537    No error message displays when choos...          1  \n",
       "4       146782    [EditorMgmt] Close a Tab with the mi...          1  \n",
       "...                                                   ...        ...  \n",
       "241158    Need non-Java centric extensible source locator          0  \n",
       "241159  Execution Statistics view is populated even wh...          0  \n",
       "241160        \"Content Assist\" did not complete normally.          0  \n",
       "241161                      Option to ignore CVS keywords          0  \n",
       "241162  Imported: Control-Click on a cell does not sel...          0  \n",
       "\n",
       "[241163 rows x 11 columns]"
      ]
     },
     "execution_count": 16,
     "metadata": {},
     "output_type": "execute_result"
    }
   ],
   "source": [
    "dataset = pd.read_csv('../input/eclipse-preprocessed5new/eclipse_preprocessed_os.csv')\n",
    "dataset"
   ]
  },
  {
   "cell_type": "code",
   "execution_count": 17,
   "id": "2e82e471",
   "metadata": {
    "execution": {
     "iopub.execute_input": "2022-03-20T12:34:54.441909Z",
     "iopub.status.busy": "2022-03-20T12:34:54.407159Z",
     "iopub.status.idle": "2022-03-20T12:34:54.575820Z",
     "shell.execute_reply": "2022-03-20T12:34:54.576281Z",
     "shell.execute_reply.started": "2022-03-05T20:01:42.056028Z"
    },
    "papermill": {
     "duration": 0.21531,
     "end_time": "2022-03-20T12:34:54.576438",
     "exception": false,
     "start_time": "2022-03-20T12:34:54.361128",
     "status": "completed"
    },
    "tags": []
   },
   "outputs": [],
   "source": [
    "dataset.dropna(subset = [\"description1\"], inplace=True)\n",
    "dataset.dropna(subset = [\"description2\"], inplace=True)"
   ]
  },
  {
   "cell_type": "code",
   "execution_count": 18,
   "id": "6f189314",
   "metadata": {
    "execution": {
     "iopub.execute_input": "2022-03-20T12:34:54.659594Z",
     "iopub.status.busy": "2022-03-20T12:34:54.657779Z",
     "iopub.status.idle": "2022-03-20T12:34:54.662281Z",
     "shell.execute_reply": "2022-03-20T12:34:54.662687Z",
     "shell.execute_reply.started": "2022-03-05T20:01:42.26842Z"
    },
    "papermill": {
     "duration": 0.04639,
     "end_time": "2022-03-20T12:34:54.662817",
     "exception": false,
     "start_time": "2022-03-20T12:34:54.616427",
     "status": "completed"
    },
    "tags": []
   },
   "outputs": [],
   "source": [
    "# dataset.loc[dataset['bug_id'] == 15957]"
   ]
  },
  {
   "cell_type": "code",
   "execution_count": 19,
   "id": "651e253e",
   "metadata": {
    "execution": {
     "iopub.execute_input": "2022-03-20T12:34:54.760607Z",
     "iopub.status.busy": "2022-03-20T12:34:54.759817Z",
     "iopub.status.idle": "2022-03-20T13:34:33.506910Z",
     "shell.execute_reply": "2022-03-20T13:34:33.507689Z",
     "shell.execute_reply.started": "2022-03-05T20:01:42.277898Z"
    },
    "papermill": {
     "duration": 3578.805622,
     "end_time": "2022-03-20T13:34:33.507979",
     "exception": false,
     "start_time": "2022-03-20T12:34:54.702357",
     "status": "completed"
    },
    "tags": []
   },
   "outputs": [],
   "source": [
    "for index, row in dataset.iterrows():\n",
    "    doc1 = 'Product:' + row['product'] + '.Component:' + row['component'] + '.Description:' + row['description1'] + '.Summary:' + row['short_desc1']\n",
    "#     print(row['bug_id'])\n",
    "#     print(row['description2'])\n",
    "    doc2 = 'Product:' + row['product'] + '.Component:' + row['component'] + '.Description:' + row['description2'] + '.Summary:' + row['short_desc2']\n",
    "    dataset.loc[index, 'doc1'] = doc1\n",
    "    dataset.loc[index, 'doc2'] = doc2"
   ]
  },
  {
   "cell_type": "code",
   "execution_count": 20,
   "id": "0e883495",
   "metadata": {
    "execution": {
     "iopub.execute_input": "2022-03-20T13:34:33.673916Z",
     "iopub.status.busy": "2022-03-20T13:34:33.673123Z",
     "iopub.status.idle": "2022-03-20T13:55:36.384248Z",
     "shell.execute_reply": "2022-03-20T13:55:36.383729Z",
     "shell.execute_reply.started": "2022-03-05T21:14:45.190866Z"
    },
    "papermill": {
     "duration": 1262.78485,
     "end_time": "2022-03-20T13:55:36.384395",
     "exception": false,
     "start_time": "2022-03-20T13:34:33.599545",
     "status": "completed"
    },
    "tags": []
   },
   "outputs": [],
   "source": [
    "for index, row in dataset.iterrows():\n",
    "    desc = row['doc1'] + row['doc2']\n",
    "    dataset.loc[index, 'description'] = desc"
   ]
  },
  {
   "cell_type": "code",
   "execution_count": 21,
   "id": "5ed54f5c",
   "metadata": {
    "execution": {
     "iopub.execute_input": "2022-03-20T13:55:36.468422Z",
     "iopub.status.busy": "2022-03-20T13:55:36.467631Z",
     "iopub.status.idle": "2022-03-20T13:55:36.472687Z",
     "shell.execute_reply": "2022-03-20T13:55:36.472265Z",
     "shell.execute_reply.started": "2022-03-05T21:39:50.489598Z"
    },
    "papermill": {
     "duration": 0.047788,
     "end_time": "2022-03-20T13:55:36.472795",
     "exception": false,
     "start_time": "2022-03-20T13:55:36.425007",
     "status": "completed"
    },
    "tags": []
   },
   "outputs": [],
   "source": [
    "def reset_column_names():\n",
    "  dataset.drop('description', axis=1, inplace=True)\n",
    "#   dataset.drop('short_desc1', axis=1, inplace=True)\n",
    "#   dataset.drop('description2', axis=1, inplace=True)\n",
    "#   dataset.drop('short_desc2', axis=1, inplace=True)\n",
    "\n",
    "  dataset.rename(columns={'description_clean':'description'}, inplace=True) #,'short_desc1_clean':'short_desc1','description2_clean':'description2','short_desc2_clean':'short_desc2'"
   ]
  },
  {
   "cell_type": "code",
   "execution_count": 22,
   "id": "6132ba70",
   "metadata": {
    "execution": {
     "iopub.execute_input": "2022-03-20T13:55:36.557348Z",
     "iopub.status.busy": "2022-03-20T13:55:36.556578Z",
     "iopub.status.idle": "2022-03-20T13:55:36.559242Z",
     "shell.execute_reply": "2022-03-20T13:55:36.558784Z",
     "shell.execute_reply.started": "2022-03-05T21:39:50.500416Z"
    },
    "papermill": {
     "duration": 0.046522,
     "end_time": "2022-03-20T13:55:36.559352",
     "exception": false,
     "start_time": "2022-03-20T13:55:36.512830",
     "status": "completed"
    },
    "tags": []
   },
   "outputs": [],
   "source": [
    "def preprocess_text_content(text):\n",
    "    text = text.lower()\n",
    "#     cleaned_text = re.sub(r\"\"\"\n",
    "#                [,.;:@#?!&$*+-=_%<>\\/\\[\\]\\(\\)\\{\\}\\\"\\'\\n]+  # Accept one or more copies of punctuation\n",
    "#                \\ *           # plus zero or more copies of a space,\n",
    "#                \"\"\",\n",
    "#                \" \",          # and replace it with a single space\n",
    "#                text, flags=re.VERBOSE)\n",
    "#     cleaned_text = re.sub(r\"https?:\\/\\/[A-Za-z0-9.\\/?&#+*+-=_%]+\", \" \",text) #replace urls\n",
    "    cleaned_text = re.sub(r\" +\", \" \", text) #remove extra white spaces\n",
    "#     cleaned_text = re.sub(r\"[d|D]escription\", \"\", cleaned_text)\n",
    "    \n",
    "    return cleaned_text"
   ]
  },
  {
   "cell_type": "code",
   "execution_count": 23,
   "id": "d183c87f",
   "metadata": {
    "execution": {
     "iopub.execute_input": "2022-03-20T13:55:36.649242Z",
     "iopub.status.busy": "2022-03-20T13:55:36.648506Z",
     "iopub.status.idle": "2022-03-20T13:55:53.436843Z",
     "shell.execute_reply": "2022-03-20T13:55:53.437292Z",
     "shell.execute_reply.started": "2022-03-05T21:39:50.512399Z"
    },
    "papermill": {
     "duration": 16.838415,
     "end_time": "2022-03-20T13:55:53.437452",
     "exception": false,
     "start_time": "2022-03-20T13:55:36.599037",
     "status": "completed"
    },
    "tags": []
   },
   "outputs": [
    {
     "data": {
      "text/html": [
       "<div>\n",
       "<style scoped>\n",
       "    .dataframe tbody tr th:only-of-type {\n",
       "        vertical-align: middle;\n",
       "    }\n",
       "\n",
       "    .dataframe tbody tr th {\n",
       "        vertical-align: top;\n",
       "    }\n",
       "\n",
       "    .dataframe thead th {\n",
       "        text-align: right;\n",
       "    }\n",
       "</style>\n",
       "<table border=\"1\" class=\"dataframe\">\n",
       "  <thead>\n",
       "    <tr style=\"text-align: right;\">\n",
       "      <th></th>\n",
       "      <th>Unnamed: 0</th>\n",
       "      <th>bug_id</th>\n",
       "      <th>description1</th>\n",
       "      <th>short_desc1</th>\n",
       "      <th>dup_id</th>\n",
       "      <th>resolution</th>\n",
       "      <th>product</th>\n",
       "      <th>component</th>\n",
       "      <th>description2</th>\n",
       "      <th>short_desc2</th>\n",
       "      <th>duplicate</th>\n",
       "      <th>doc1</th>\n",
       "      <th>doc2</th>\n",
       "      <th>description</th>\n",
       "      <th>description_clean</th>\n",
       "    </tr>\n",
       "  </thead>\n",
       "  <tbody>\n",
       "    <tr>\n",
       "      <th>0</th>\n",
       "      <td>59556</td>\n",
       "      <td>62303</td>\n",
       "      <td>There should be some global dialog or preferen...</td>\n",
       "      <td>[Keybindings] Provide a list of all keybindings</td>\n",
       "      <td>37439</td>\n",
       "      <td>DUPLICATE</td>\n",
       "      <td>Platform</td>\n",
       "      <td>UI</td>\n",
       "      <td>35722    it would be very useful it if were po...</td>\n",
       "      <td>35722    [KeyBindings] preference page: add a ...</td>\n",
       "      <td>1</td>\n",
       "      <td>Product:Platform.Component:UI.Description:Ther...</td>\n",
       "      <td>Product:Platform.Component:UI.Description:3572...</td>\n",
       "      <td>Product:Platform.Component:UI.Description:Ther...</td>\n",
       "      <td>product:platform.component:ui.description:ther...</td>\n",
       "    </tr>\n",
       "    <tr>\n",
       "      <th>1</th>\n",
       "      <td>25380</td>\n",
       "      <td>26824</td>\n",
       "      <td>When class X has a private field F, and code i...</td>\n",
       "      <td>New auto-suggestion; add 'generate getXxx' whe...</td>\n",
       "      <td>28068</td>\n",
       "      <td>DUPLICATE</td>\n",
       "      <td>JDT</td>\n",
       "      <td>UI</td>\n",
       "      <td>26619    I have two classes:\\nA - with private...</td>\n",
       "      <td>26619    [quick fix] Greate getter for \"Field ...</td>\n",
       "      <td>1</td>\n",
       "      <td>Product:JDT.Component:UI.Description:When clas...</td>\n",
       "      <td>Product:JDT.Component:UI.Description:26619    ...</td>\n",
       "      <td>Product:JDT.Component:UI.Description:When clas...</td>\n",
       "      <td>product:jdt.component:ui.description:when clas...</td>\n",
       "    </tr>\n",
       "    <tr>\n",
       "      <th>2</th>\n",
       "      <td>84739</td>\n",
       "      <td>89233</td>\n",
       "      <td>Need to complete a WSDL model core API accordi...</td>\n",
       "      <td>Need to define WSDL Core API</td>\n",
       "      <td>89291</td>\n",
       "      <td>DUPLICATE</td>\n",
       "      <td>WTP Webservices</td>\n",
       "      <td>wst.wsdl</td>\n",
       "      <td>84804    Need to complete a WSDL model core AP...</td>\n",
       "      <td>84804    Need to define WSDL Core API</td>\n",
       "      <td>1</td>\n",
       "      <td>Product:WTP Webservices.Component:wst.wsdl.Des...</td>\n",
       "      <td>Product:WTP Webservices.Component:wst.wsdl.Des...</td>\n",
       "      <td>Product:WTP Webservices.Component:wst.wsdl.Des...</td>\n",
       "      <td>product:wtp webservices.component:wst.wsdl.des...</td>\n",
       "    </tr>\n",
       "    <tr>\n",
       "      <th>3</th>\n",
       "      <td>145562</td>\n",
       "      <td>155467</td>\n",
       "      <td>Build: RSA-M20060802-0800\\n\\nSteps:\\n1)   Wind...</td>\n",
       "      <td>No error message displays when choose an inval...</td>\n",
       "      <td>155442</td>\n",
       "      <td>DUPLICATE</td>\n",
       "      <td>EPF</td>\n",
       "      <td>Tool</td>\n",
       "      <td>145537    Build: RSA-M20060802-0800\\n\\nSteps:\\...</td>\n",
       "      <td>145537    No error message displays when choos...</td>\n",
       "      <td>1</td>\n",
       "      <td>Product:EPF.Component:Tool.Description:Build: ...</td>\n",
       "      <td>Product:EPF.Component:Tool.Description:145537 ...</td>\n",
       "      <td>Product:EPF.Component:Tool.Description:Build: ...</td>\n",
       "      <td>product:epf.component:tool.description:build: ...</td>\n",
       "    </tr>\n",
       "    <tr>\n",
       "      <th>4</th>\n",
       "      <td>186715</td>\n",
       "      <td>201768</td>\n",
       "      <td>Build ID: I20070625-1500\\n\\nSteps To Reproduce...</td>\n",
       "      <td>Should be able to middle click on editor/ view...</td>\n",
       "      <td>156792</td>\n",
       "      <td>DUPLICATE</td>\n",
       "      <td>Platform</td>\n",
       "      <td>UI</td>\n",
       "      <td>146782    It would be ui-friendly if the tabs ...</td>\n",
       "      <td>146782    [EditorMgmt] Close a Tab with the mi...</td>\n",
       "      <td>1</td>\n",
       "      <td>Product:Platform.Component:UI.Description:Buil...</td>\n",
       "      <td>Product:Platform.Component:UI.Description:1467...</td>\n",
       "      <td>Product:Platform.Component:UI.Description:Buil...</td>\n",
       "      <td>product:platform.component:ui.description:buil...</td>\n",
       "    </tr>\n",
       "  </tbody>\n",
       "</table>\n",
       "</div>"
      ],
      "text/plain": [
       "   Unnamed: 0  bug_id                                       description1  \\\n",
       "0       59556   62303  There should be some global dialog or preferen...   \n",
       "1       25380   26824  When class X has a private field F, and code i...   \n",
       "2       84739   89233  Need to complete a WSDL model core API accordi...   \n",
       "3      145562  155467  Build: RSA-M20060802-0800\\n\\nSteps:\\n1)   Wind...   \n",
       "4      186715  201768  Build ID: I20070625-1500\\n\\nSteps To Reproduce...   \n",
       "\n",
       "                                         short_desc1  dup_id resolution  \\\n",
       "0    [Keybindings] Provide a list of all keybindings   37439  DUPLICATE   \n",
       "1  New auto-suggestion; add 'generate getXxx' whe...   28068  DUPLICATE   \n",
       "2                       Need to define WSDL Core API   89291  DUPLICATE   \n",
       "3  No error message displays when choose an inval...  155442  DUPLICATE   \n",
       "4  Should be able to middle click on editor/ view...  156792  DUPLICATE   \n",
       "\n",
       "           product component  \\\n",
       "0         Platform        UI   \n",
       "1              JDT        UI   \n",
       "2  WTP Webservices  wst.wsdl   \n",
       "3              EPF      Tool   \n",
       "4         Platform        UI   \n",
       "\n",
       "                                        description2  \\\n",
       "0  35722    it would be very useful it if were po...   \n",
       "1  26619    I have two classes:\\nA - with private...   \n",
       "2  84804    Need to complete a WSDL model core AP...   \n",
       "3  145537    Build: RSA-M20060802-0800\\n\\nSteps:\\...   \n",
       "4  146782    It would be ui-friendly if the tabs ...   \n",
       "\n",
       "                                         short_desc2  duplicate  \\\n",
       "0  35722    [KeyBindings] preference page: add a ...          1   \n",
       "1  26619    [quick fix] Greate getter for \"Field ...          1   \n",
       "2              84804    Need to define WSDL Core API          1   \n",
       "3  145537    No error message displays when choos...          1   \n",
       "4  146782    [EditorMgmt] Close a Tab with the mi...          1   \n",
       "\n",
       "                                                doc1  \\\n",
       "0  Product:Platform.Component:UI.Description:Ther...   \n",
       "1  Product:JDT.Component:UI.Description:When clas...   \n",
       "2  Product:WTP Webservices.Component:wst.wsdl.Des...   \n",
       "3  Product:EPF.Component:Tool.Description:Build: ...   \n",
       "4  Product:Platform.Component:UI.Description:Buil...   \n",
       "\n",
       "                                                doc2  \\\n",
       "0  Product:Platform.Component:UI.Description:3572...   \n",
       "1  Product:JDT.Component:UI.Description:26619    ...   \n",
       "2  Product:WTP Webservices.Component:wst.wsdl.Des...   \n",
       "3  Product:EPF.Component:Tool.Description:145537 ...   \n",
       "4  Product:Platform.Component:UI.Description:1467...   \n",
       "\n",
       "                                         description  \\\n",
       "0  Product:Platform.Component:UI.Description:Ther...   \n",
       "1  Product:JDT.Component:UI.Description:When clas...   \n",
       "2  Product:WTP Webservices.Component:wst.wsdl.Des...   \n",
       "3  Product:EPF.Component:Tool.Description:Build: ...   \n",
       "4  Product:Platform.Component:UI.Description:Buil...   \n",
       "\n",
       "                                   description_clean  \n",
       "0  product:platform.component:ui.description:ther...  \n",
       "1  product:jdt.component:ui.description:when clas...  \n",
       "2  product:wtp webservices.component:wst.wsdl.des...  \n",
       "3  product:epf.component:tool.description:build: ...  \n",
       "4  product:platform.component:ui.description:buil...  "
      ]
     },
     "execution_count": 23,
     "metadata": {},
     "output_type": "execute_result"
    }
   ],
   "source": [
    "dataset['description_clean']= dataset['description'].apply(lambda x:preprocess_text_content(x))\n",
    "# dataset['short_desc1_clean']= dataset['short_desc1'].apply(lambda x:preprocess_text(x))\n",
    "# dataset['description2_clean']= dataset['description2'].apply(lambda x:preprocess_text(x))\n",
    "# dataset['short_desc2_clean']= dataset['short_desc2'].apply(lambda x:preprocess_text(x))\n",
    "dataset.head()"
   ]
  },
  {
   "cell_type": "code",
   "execution_count": 24,
   "id": "078de253",
   "metadata": {
    "execution": {
     "iopub.execute_input": "2022-03-20T13:55:53.668471Z",
     "iopub.status.busy": "2022-03-20T13:55:53.667267Z",
     "iopub.status.idle": "2022-03-20T13:55:53.746705Z",
     "shell.execute_reply": "2022-03-20T13:55:53.747187Z",
     "shell.execute_reply.started": "2022-03-05T21:40:08.19567Z"
    },
    "papermill": {
     "duration": 0.268842,
     "end_time": "2022-03-20T13:55:53.747371",
     "exception": false,
     "start_time": "2022-03-20T13:55:53.478529",
     "status": "completed"
    },
    "tags": []
   },
   "outputs": [],
   "source": [
    "reset_column_names()"
   ]
  },
  {
   "cell_type": "code",
   "execution_count": 25,
   "id": "c39a3e77",
   "metadata": {
    "execution": {
     "iopub.execute_input": "2022-03-20T13:55:53.845483Z",
     "iopub.status.busy": "2022-03-20T13:55:53.844551Z",
     "iopub.status.idle": "2022-03-20T13:55:53.846610Z",
     "shell.execute_reply": "2022-03-20T13:55:53.847085Z",
     "shell.execute_reply.started": "2022-03-05T21:40:08.446026Z"
    },
    "papermill": {
     "duration": 0.053286,
     "end_time": "2022-03-20T13:55:53.847229",
     "exception": false,
     "start_time": "2022-03-20T13:55:53.793943",
     "status": "completed"
    },
    "tags": []
   },
   "outputs": [],
   "source": [
    "# def preprocess_text(text,tokenizer):\n",
    "# #     print(text)\n",
    "#     #tokenize the text\n",
    "#     text = tokenizer.tokenize(text)\n",
    "#     #lowercase the text\n",
    "#     text = [w.lower() for w in text]\n",
    "#     #removal of stop word \n",
    "#     text = [w for w in text if w not in stop_words]\n",
    "#     #removal of non-english words\n",
    "#     text = [w for w in text if w in words or w.isalpha()]\n",
    "    #stemming\n",
    "#     text = [ ps.stem(w) for w in text]\n",
    "    #remove extra white spaces\n",
    "#     text = [ re.sub(r\" +\", \" \", w) for w in text] \n",
    "#     cleaned_text = re.sub(r\"\"\"\n",
    "#                [,.;:@#?!&$*+-=_%<>\\/\\[\\]\\(\\)\\{\\}\\\"\\'\\n]+  # Accept one or more copies of punctuation\n",
    "#                \\ *           # plus zero or more copies of a space,\n",
    "#                \"\"\",\n",
    "#                \" \",          # and replace it with a single space\n",
    "#                text, flags=re.VERBOSE)\n",
    "#     cleaned_text = re.sub(r\"https?:\\/\\/[A-Za-z0-9.\\/?&#+*+-=_%]+\", \" \",cleaned_text) #replace urls\n",
    "    \n",
    "#     cleaned_text = re.sub(r\"[d|D]escription\", \"\", cleaned_text)\n",
    "    \n",
    "#     return text"
   ]
  },
  {
   "cell_type": "code",
   "execution_count": 26,
   "id": "d01c5f23",
   "metadata": {
    "execution": {
     "iopub.execute_input": "2022-03-20T13:55:53.946530Z",
     "iopub.status.busy": "2022-03-20T13:55:53.944771Z",
     "iopub.status.idle": "2022-03-20T13:55:53.949135Z",
     "shell.execute_reply": "2022-03-20T13:55:53.948630Z",
     "shell.execute_reply.started": "2022-03-05T21:40:08.454395Z"
    },
    "papermill": {
     "duration": 0.056109,
     "end_time": "2022-03-20T13:55:53.949255",
     "exception": false,
     "start_time": "2022-03-20T13:55:53.893146",
     "status": "completed"
    },
    "tags": []
   },
   "outputs": [],
   "source": [
    "max_len = 0\n",
    "# lenArr = []\n",
    "# outliers = []\n",
    "\n",
    "# q25, q75 = np.percentile(lenArr, [25, 75])\n",
    "# bin_width = 2 * (q75 - q25) * len(lenArr) ** (-1/3)\n",
    "# bins = round((lenArr.max() - lenArr.min()) / bin_width)\n",
    "\n",
    "### Add tokens to the data make it BERT compatible\n",
    "def bert_encode(texts, tokenizer, max_len=512):\n",
    "    print('encode')\n",
    "    all_tokens = []\n",
    "    all_masks = []\n",
    "    all_segments = []\n",
    "    \n",
    "    for text in texts:\n",
    "#         text = preprocess_text(text,tokenizer)\n",
    "        text = tokenizer.tokenize(text)\n",
    "#         print(text)\n",
    "        text = [w for w in text if w.lower() not in stop_words]\n",
    "    \n",
    "#         length = len(text)\n",
    "#         if(length <1000):\n",
    "#             lenArr.append(length)\n",
    "#     #     print(length)\n",
    "#             if(max_len < length):\n",
    "#               max_len = length\n",
    "#         else:\n",
    "#             outliers.append(length)\n",
    "            \n",
    "        text = text[:max_len-2]\n",
    "        input_sequence = [\"[CLS]\"] + text + [\"[SEP]\"]\n",
    "        pad_len = max_len - len(input_sequence)\n",
    "        \n",
    "        tokens = tokenizer.convert_tokens_to_ids(input_sequence)\n",
    "        tokens += [0] * pad_len\n",
    "        pad_masks = [1] * len(input_sequence) + [0] * pad_len\n",
    "        segment_ids = [0] * max_len\n",
    "        \n",
    "        all_tokens.append(tokens)\n",
    "        all_masks.append(pad_masks)\n",
    "        all_segments.append(segment_ids)\n",
    "    \n",
    "#     print(len(lenArr))\n",
    "#     # lenArr=list(filter(lambda a: a != 3395, lenArr))\n",
    "#     # print(lenArr)\n",
    "#     print(\"avg\", sum(lenArr)/len(lenArr))\n",
    "#     print(\"outliers\", outliers)\n",
    "#     print(\"outliers\", len(outliers))\n",
    "#     plt.hist(lenArr, density=True, bins=30)\n",
    "#     max_len\n",
    "\n",
    "    return np.array(all_tokens), np.array(all_masks), np.array(all_segments)"
   ]
  },
  {
   "cell_type": "code",
   "execution_count": 27,
   "id": "7b8313f2",
   "metadata": {
    "execution": {
     "iopub.execute_input": "2022-03-20T13:55:54.046531Z",
     "iopub.status.busy": "2022-03-20T13:55:54.045511Z",
     "iopub.status.idle": "2022-03-20T13:55:54.055557Z",
     "shell.execute_reply": "2022-03-20T13:55:54.055066Z",
     "shell.execute_reply.started": "2022-03-05T21:40:08.471943Z"
    },
    "papermill": {
     "duration": 0.061421,
     "end_time": "2022-03-20T13:55:54.055694",
     "exception": false,
     "start_time": "2022-03-20T13:55:53.994273",
     "status": "completed"
    },
    "tags": []
   },
   "outputs": [],
   "source": [
    "def build_model(bert_layer, max_len=512):\n",
    "    print('build model')\n",
    "    input_word_ids = Input(shape=(max_len,), dtype=tf.int32, name=\"input_word_ids\")\n",
    "    input_mask = Input(shape=(max_len,), dtype=tf.int32, name=\"input_mask\")\n",
    "    segment_ids = Input(shape=(max_len,), dtype=tf.int32, name=\"segment_ids\")\n",
    "    \n",
    "#     embedding = bert_layer(\n",
    "#         input_word_ids, token_type_ids=segment_ids, attention_mask=input_mask\n",
    "#     )[0]\n",
    "\n",
    "    _, sequence_output = bert_layer([input_word_ids, input_mask, segment_ids])\n",
    "    clf_output = sequence_output[:, 0, :] \n",
    "#     print(clf_output)\n",
    "   \n",
    "    clf_output = Reshape((1024,1))(clf_output)\n",
    "    print(clf_output)\n",
    "    \n",
    "    x = Conv1D(8, 3, activation='relu', padding='same')(clf_output)\n",
    "    x = BatchNormalization()(x)\n",
    "    x = MaxPooling1D()(x)\n",
    "    x = Conv1D(32, 3, activation='relu', padding='same')(x)\n",
    "    x = BatchNormalization()(x)\n",
    "    x = MaxPooling1D()(x)\n",
    "#     x = Flatten()(x)\n",
    "#     out = Dense(1, activation='sigmoid')(x)\n",
    "    out = Dense(1, activation='sigmoid')(x)\n",
    "    \n",
    "    model = Model(inputs=[input_word_ids, input_mask, segment_ids], outputs=out)\n",
    "    model.compile(Adam(lr=2e-6), loss='binary_crossentropy', metrics=['accuracy',tf.keras.metrics.Precision(), tf.keras.metrics.Recall()])\n",
    "    \n",
    "    return model"
   ]
  },
  {
   "cell_type": "code",
   "execution_count": 28,
   "id": "12c1b7ac",
   "metadata": {
    "execution": {
     "iopub.execute_input": "2022-03-20T13:55:54.147932Z",
     "iopub.status.busy": "2022-03-20T13:55:54.146840Z",
     "iopub.status.idle": "2022-03-20T13:55:54.313986Z",
     "shell.execute_reply": "2022-03-20T13:55:54.313442Z",
     "shell.execute_reply.started": "2022-03-05T21:40:08.491963Z"
    },
    "papermill": {
     "duration": 0.213501,
     "end_time": "2022-03-20T13:55:54.314153",
     "exception": false,
     "start_time": "2022-03-20T13:55:54.100652",
     "status": "completed"
    },
    "tags": []
   },
   "outputs": [],
   "source": [
    "train, test = train_test_split(dataset, test_size=0.2)"
   ]
  },
  {
   "cell_type": "code",
   "execution_count": 29,
   "id": "1c074249",
   "metadata": {
    "execution": {
     "iopub.execute_input": "2022-03-20T13:55:54.400166Z",
     "iopub.status.busy": "2022-03-20T13:55:54.399546Z",
     "iopub.status.idle": "2022-03-20T13:56:23.291517Z",
     "shell.execute_reply": "2022-03-20T13:56:23.291009Z",
     "shell.execute_reply.started": "2022-03-05T21:40:08.500933Z"
    },
    "papermill": {
     "duration": 28.93661,
     "end_time": "2022-03-20T13:56:23.291651",
     "exception": false,
     "start_time": "2022-03-20T13:55:54.355041",
     "status": "completed"
    },
    "tags": []
   },
   "outputs": [
    {
     "name": "stderr",
     "output_type": "stream",
     "text": [
      "2022-03-20 13:56:10.529443: I tensorflow/stream_executor/cuda/cuda_gpu_executor.cc:937] successful NUMA node read from SysFS had negative value (-1), but there must be at least one NUMA node, so returning NUMA node zero\n",
      "2022-03-20 13:56:10.530303: I tensorflow/stream_executor/cuda/cuda_gpu_executor.cc:937] successful NUMA node read from SysFS had negative value (-1), but there must be at least one NUMA node, so returning NUMA node zero\n",
      "2022-03-20 13:56:10.530912: I tensorflow/stream_executor/cuda/cuda_gpu_executor.cc:937] successful NUMA node read from SysFS had negative value (-1), but there must be at least one NUMA node, so returning NUMA node zero\n",
      "2022-03-20 13:56:10.531801: I tensorflow/stream_executor/cuda/cuda_gpu_executor.cc:937] successful NUMA node read from SysFS had negative value (-1), but there must be at least one NUMA node, so returning NUMA node zero\n",
      "2022-03-20 13:56:10.532479: I tensorflow/stream_executor/cuda/cuda_gpu_executor.cc:937] successful NUMA node read from SysFS had negative value (-1), but there must be at least one NUMA node, so returning NUMA node zero\n",
      "2022-03-20 13:56:10.533110: I tensorflow/stream_executor/cuda/cuda_gpu_executor.cc:937] successful NUMA node read from SysFS had negative value (-1), but there must be at least one NUMA node, so returning NUMA node zero\n",
      "2022-03-20 13:56:10.533861: I tensorflow/stream_executor/cuda/cuda_gpu_executor.cc:937] successful NUMA node read from SysFS had negative value (-1), but there must be at least one NUMA node, so returning NUMA node zero\n",
      "2022-03-20 13:56:10.534542: I tensorflow/stream_executor/cuda/cuda_gpu_executor.cc:937] successful NUMA node read from SysFS had negative value (-1), but there must be at least one NUMA node, so returning NUMA node zero\n",
      "2022-03-20 13:56:10.535123: I tensorflow/core/common_runtime/gpu/gpu_device.cc:1510] Created device /job:localhost/replica:0/task:0/device:GPU:0 with 15403 MB memory:  -> device: 0, name: Tesla P100-PCIE-16GB, pci bus id: 0000:00:04.0, compute capability: 6.0\n"
     ]
    }
   ],
   "source": [
    "FullTokenizer = tokenization.FullTokenizer\n",
    "bert_layer = hub.KerasLayer(\"https://tfhub.dev/tensorflow/bert_en_uncased_L-24_H-1024_A-16/1\", trainable=True)"
   ]
  },
  {
   "cell_type": "code",
   "execution_count": 30,
   "id": "65c29130",
   "metadata": {
    "execution": {
     "iopub.execute_input": "2022-03-20T13:56:23.379127Z",
     "iopub.status.busy": "2022-03-20T13:56:23.378337Z",
     "iopub.status.idle": "2022-03-20T13:56:23.480692Z",
     "shell.execute_reply": "2022-03-20T13:56:23.480249Z",
     "shell.execute_reply.started": "2022-03-05T21:40:51.790666Z"
    },
    "papermill": {
     "duration": 0.147714,
     "end_time": "2022-03-20T13:56:23.480807",
     "exception": false,
     "start_time": "2022-03-20T13:56:23.333093",
     "status": "completed"
    },
    "tags": []
   },
   "outputs": [],
   "source": [
    "vocab_file = bert_layer.resolved_object.vocab_file.asset_path.numpy()\n",
    "lower_cased = bert_layer.resolved_object.do_lower_case.numpy()\n",
    "\n",
    "tokenizer = FullTokenizer(vocab_file, lower_cased)"
   ]
  },
  {
   "cell_type": "code",
   "execution_count": 31,
   "id": "d71b38d2",
   "metadata": {
    "execution": {
     "iopub.execute_input": "2022-03-20T13:56:23.567537Z",
     "iopub.status.busy": "2022-03-20T13:56:23.565962Z",
     "iopub.status.idle": "2022-03-20T13:56:23.568196Z",
     "shell.execute_reply": "2022-03-20T13:56:23.568601Z",
     "shell.execute_reply.started": "2022-03-05T21:40:51.922909Z"
    },
    "papermill": {
     "duration": 0.046636,
     "end_time": "2022-03-20T13:56:23.568726",
     "exception": false,
     "start_time": "2022-03-20T13:56:23.522090",
     "status": "completed"
    },
    "tags": []
   },
   "outputs": [],
   "source": [
    "# X = dataset['description']\n",
    "# Y = np.array(dataset.duplicate.values, dtype='int')"
   ]
  },
  {
   "cell_type": "code",
   "execution_count": 32,
   "id": "84e0cc8e",
   "metadata": {
    "execution": {
     "iopub.execute_input": "2022-03-20T13:56:23.654071Z",
     "iopub.status.busy": "2022-03-20T13:56:23.653536Z",
     "iopub.status.idle": "2022-03-20T14:29:27.252664Z",
     "shell.execute_reply": "2022-03-20T14:29:27.253117Z",
     "shell.execute_reply.started": "2022-03-05T21:40:51.932092Z"
    },
    "papermill": {
     "duration": 1983.643999,
     "end_time": "2022-03-20T14:29:27.253315",
     "exception": false,
     "start_time": "2022-03-20T13:56:23.609316",
     "status": "completed"
    },
    "tags": []
   },
   "outputs": [
    {
     "name": "stdout",
     "output_type": "stream",
     "text": [
      "encode\n"
     ]
    }
   ],
   "source": [
    "train_input = bert_encode(train['description'], tokenizer, max_len=160)\n",
    "train_labels = np.array(train.duplicate.values, dtype='int')"
   ]
  },
  {
   "cell_type": "code",
   "execution_count": 33,
   "id": "44d125a9",
   "metadata": {
    "execution": {
     "iopub.execute_input": "2022-03-20T14:29:27.345446Z",
     "iopub.status.busy": "2022-03-20T14:29:27.344671Z",
     "iopub.status.idle": "2022-03-20T14:29:47.032527Z",
     "shell.execute_reply": "2022-03-20T14:29:47.031311Z",
     "shell.execute_reply.started": "2022-03-05T22:15:33.625909Z"
    },
    "papermill": {
     "duration": 19.736262,
     "end_time": "2022-03-20T14:29:47.032794",
     "exception": true,
     "start_time": "2022-03-20T14:29:27.296532",
     "status": "failed"
    },
    "tags": []
   },
   "outputs": [
    {
     "name": "stdout",
     "output_type": "stream",
     "text": [
      "build model\n",
      "KerasTensor(type_spec=TensorSpec(shape=(None, 1024, 1), dtype=tf.float32, name=None), name='reshape/Reshape:0', description=\"created by layer 'reshape'\")\n",
      "Model: \"model\"\n",
      "__________________________________________________________________________________________________\n",
      "Layer (type)                    Output Shape         Param #     Connected to                     \n",
      "==================================================================================================\n",
      "input_word_ids (InputLayer)     [(None, 160)]        0                                            \n",
      "__________________________________________________________________________________________________\n",
      "input_mask (InputLayer)         [(None, 160)]        0                                            \n",
      "__________________________________________________________________________________________________\n",
      "segment_ids (InputLayer)        [(None, 160)]        0                                            \n",
      "__________________________________________________________________________________________________\n",
      "keras_layer (KerasLayer)        [(None, 1024), (None 335141889   input_word_ids[0][0]             \n",
      "                                                                 input_mask[0][0]                 \n",
      "                                                                 segment_ids[0][0]                \n",
      "__________________________________________________________________________________________________\n",
      "tf.__operators__.getitem (Slici (None, 1024)         0           keras_layer[0][1]                \n",
      "__________________________________________________________________________________________________\n",
      "reshape (Reshape)               (None, 1024, 1)      0           tf.__operators__.getitem[0][0]   \n",
      "__________________________________________________________________________________________________\n",
      "conv1d (Conv1D)                 (None, 1024, 8)      32          reshape[0][0]                    \n",
      "__________________________________________________________________________________________________\n",
      "batch_normalization (BatchNorma (None, 1024, 8)      32          conv1d[0][0]                     \n",
      "__________________________________________________________________________________________________\n",
      "max_pooling1d (MaxPooling1D)    (None, 512, 8)       0           batch_normalization[0][0]        \n",
      "__________________________________________________________________________________________________\n",
      "conv1d_1 (Conv1D)               (None, 512, 32)      800         max_pooling1d[0][0]              \n",
      "__________________________________________________________________________________________________\n",
      "batch_normalization_1 (BatchNor (None, 512, 32)      128         conv1d_1[0][0]                   \n",
      "__________________________________________________________________________________________________\n",
      "max_pooling1d_1 (MaxPooling1D)  (None, 256, 32)      0           batch_normalization_1[0][0]      \n",
      "__________________________________________________________________________________________________\n",
      "dense (Dense)                   (None, 256, 1)       33          max_pooling1d_1[0][0]            \n",
      "==================================================================================================\n",
      "Total params: 335,142,914\n",
      "Trainable params: 335,142,833\n",
      "Non-trainable params: 81\n",
      "__________________________________________________________________________________________________\n"
     ]
    },
    {
     "name": "stderr",
     "output_type": "stream",
     "text": [
      "/opt/conda/lib/python3.7/site-packages/keras/optimizer_v2/optimizer_v2.py:356: UserWarning: The `lr` argument is deprecated, use `learning_rate` instead.\n",
      "  \"The `lr` argument is deprecated, use `learning_rate` instead.\")\n",
      "2022-03-20 14:29:30.155097: I tensorflow/compiler/mlir/mlir_graph_optimization_pass.cc:185] None of the MLIR Optimization Passes are enabled (registered 2)\n"
     ]
    },
    {
     "name": "stdout",
     "output_type": "stream",
     "text": [
      "Epoch 1/5\n"
     ]
    },
    {
     "ename": "ValueError",
     "evalue": "in user code:\n\n    /opt/conda/lib/python3.7/site-packages/keras/engine/training.py:853 train_function  *\n        return step_function(self, iterator)\n    /opt/conda/lib/python3.7/site-packages/keras/engine/training.py:842 step_function  **\n        outputs = model.distribute_strategy.run(run_step, args=(data,))\n    /opt/conda/lib/python3.7/site-packages/tensorflow/python/distribute/distribute_lib.py:1286 run\n        return self._extended.call_for_each_replica(fn, args=args, kwargs=kwargs)\n    /opt/conda/lib/python3.7/site-packages/tensorflow/python/distribute/distribute_lib.py:2849 call_for_each_replica\n        return self._call_for_each_replica(fn, args, kwargs)\n    /opt/conda/lib/python3.7/site-packages/tensorflow/python/distribute/distribute_lib.py:3632 _call_for_each_replica\n        return fn(*args, **kwargs)\n    /opt/conda/lib/python3.7/site-packages/keras/engine/training.py:835 run_step  **\n        outputs = model.train_step(data)\n    /opt/conda/lib/python3.7/site-packages/keras/engine/training.py:792 train_step\n        self.compiled_metrics.update_state(y, y_pred, sample_weight)\n    /opt/conda/lib/python3.7/site-packages/keras/engine/compile_utils.py:457 update_state\n        metric_obj.update_state(y_t, y_p, sample_weight=mask)\n    /opt/conda/lib/python3.7/site-packages/keras/utils/metrics_utils.py:73 decorated\n        update_op = update_state_fn(*args, **kwargs)\n    /opt/conda/lib/python3.7/site-packages/keras/metrics.py:177 update_state_fn\n        return ag_update_state(*args, **kwargs)\n    /opt/conda/lib/python3.7/site-packages/keras/metrics.py:1366 update_state  **\n        sample_weight=sample_weight)\n    /opt/conda/lib/python3.7/site-packages/keras/utils/metrics_utils.py:623 update_confusion_matrix_variables\n        y_pred.shape.assert_is_compatible_with(y_true.shape)\n    /opt/conda/lib/python3.7/site-packages/tensorflow/python/framework/tensor_shape.py:1161 assert_is_compatible_with\n        raise ValueError(\"Shapes %s and %s are incompatible\" % (self, other))\n\n    ValueError: Shapes (None, 256) and (None, 1) are incompatible\n",
     "output_type": "error",
     "traceback": [
      "\u001b[0;31m---------------------------------------------------------------------------\u001b[0m",
      "\u001b[0;31mValueError\u001b[0m                                Traceback (most recent call last)",
      "\u001b[0;32m/tmp/ipykernel_24/32372684.py\u001b[0m in \u001b[0;36m<module>\u001b[0;34m\u001b[0m\n\u001b[1;32m      3\u001b[0m \u001b[0;34m\u001b[0m\u001b[0m\n\u001b[1;32m      4\u001b[0m \u001b[0;31m# Fit the model\u001b[0m\u001b[0;34m\u001b[0m\u001b[0;34m\u001b[0m\u001b[0;34m\u001b[0m\u001b[0m\n\u001b[0;32m----> 5\u001b[0;31m \u001b[0mmodel\u001b[0m\u001b[0;34m.\u001b[0m\u001b[0mfit\u001b[0m\u001b[0;34m(\u001b[0m\u001b[0mtrain_input\u001b[0m\u001b[0;34m,\u001b[0m\u001b[0mtrain_labels\u001b[0m\u001b[0;34m,\u001b[0m \u001b[0mepochs\u001b[0m\u001b[0;34m=\u001b[0m\u001b[0;36m5\u001b[0m\u001b[0;34m,\u001b[0m \u001b[0mbatch_size\u001b[0m\u001b[0;34m=\u001b[0m\u001b[0;36m20\u001b[0m\u001b[0;34m)\u001b[0m\u001b[0;34m\u001b[0m\u001b[0;34m\u001b[0m\u001b[0m\n\u001b[0m",
      "\u001b[0;32m/opt/conda/lib/python3.7/site-packages/keras/engine/training.py\u001b[0m in \u001b[0;36mfit\u001b[0;34m(self, x, y, batch_size, epochs, verbose, callbacks, validation_split, validation_data, shuffle, class_weight, sample_weight, initial_epoch, steps_per_epoch, validation_steps, validation_batch_size, validation_freq, max_queue_size, workers, use_multiprocessing)\u001b[0m\n\u001b[1;32m   1182\u001b[0m                 _r=1):\n\u001b[1;32m   1183\u001b[0m               \u001b[0mcallbacks\u001b[0m\u001b[0;34m.\u001b[0m\u001b[0mon_train_batch_begin\u001b[0m\u001b[0;34m(\u001b[0m\u001b[0mstep\u001b[0m\u001b[0;34m)\u001b[0m\u001b[0;34m\u001b[0m\u001b[0;34m\u001b[0m\u001b[0m\n\u001b[0;32m-> 1184\u001b[0;31m               \u001b[0mtmp_logs\u001b[0m \u001b[0;34m=\u001b[0m \u001b[0mself\u001b[0m\u001b[0;34m.\u001b[0m\u001b[0mtrain_function\u001b[0m\u001b[0;34m(\u001b[0m\u001b[0miterator\u001b[0m\u001b[0;34m)\u001b[0m\u001b[0;34m\u001b[0m\u001b[0;34m\u001b[0m\u001b[0m\n\u001b[0m\u001b[1;32m   1185\u001b[0m               \u001b[0;32mif\u001b[0m \u001b[0mdata_handler\u001b[0m\u001b[0;34m.\u001b[0m\u001b[0mshould_sync\u001b[0m\u001b[0;34m:\u001b[0m\u001b[0;34m\u001b[0m\u001b[0;34m\u001b[0m\u001b[0m\n\u001b[1;32m   1186\u001b[0m                 \u001b[0mcontext\u001b[0m\u001b[0;34m.\u001b[0m\u001b[0masync_wait\u001b[0m\u001b[0;34m(\u001b[0m\u001b[0;34m)\u001b[0m\u001b[0;34m\u001b[0m\u001b[0;34m\u001b[0m\u001b[0m\n",
      "\u001b[0;32m/opt/conda/lib/python3.7/site-packages/tensorflow/python/eager/def_function.py\u001b[0m in \u001b[0;36m__call__\u001b[0;34m(self, *args, **kwds)\u001b[0m\n\u001b[1;32m    883\u001b[0m \u001b[0;34m\u001b[0m\u001b[0m\n\u001b[1;32m    884\u001b[0m       \u001b[0;32mwith\u001b[0m \u001b[0mOptionalXlaContext\u001b[0m\u001b[0;34m(\u001b[0m\u001b[0mself\u001b[0m\u001b[0;34m.\u001b[0m\u001b[0m_jit_compile\u001b[0m\u001b[0;34m)\u001b[0m\u001b[0;34m:\u001b[0m\u001b[0;34m\u001b[0m\u001b[0;34m\u001b[0m\u001b[0m\n\u001b[0;32m--> 885\u001b[0;31m         \u001b[0mresult\u001b[0m \u001b[0;34m=\u001b[0m \u001b[0mself\u001b[0m\u001b[0;34m.\u001b[0m\u001b[0m_call\u001b[0m\u001b[0;34m(\u001b[0m\u001b[0;34m*\u001b[0m\u001b[0margs\u001b[0m\u001b[0;34m,\u001b[0m \u001b[0;34m**\u001b[0m\u001b[0mkwds\u001b[0m\u001b[0;34m)\u001b[0m\u001b[0;34m\u001b[0m\u001b[0;34m\u001b[0m\u001b[0m\n\u001b[0m\u001b[1;32m    886\u001b[0m \u001b[0;34m\u001b[0m\u001b[0m\n\u001b[1;32m    887\u001b[0m       \u001b[0mnew_tracing_count\u001b[0m \u001b[0;34m=\u001b[0m \u001b[0mself\u001b[0m\u001b[0;34m.\u001b[0m\u001b[0mexperimental_get_tracing_count\u001b[0m\u001b[0;34m(\u001b[0m\u001b[0;34m)\u001b[0m\u001b[0;34m\u001b[0m\u001b[0;34m\u001b[0m\u001b[0m\n",
      "\u001b[0;32m/opt/conda/lib/python3.7/site-packages/tensorflow/python/eager/def_function.py\u001b[0m in \u001b[0;36m_call\u001b[0;34m(self, *args, **kwds)\u001b[0m\n\u001b[1;32m    931\u001b[0m       \u001b[0;31m# This is the first call of __call__, so we have to initialize.\u001b[0m\u001b[0;34m\u001b[0m\u001b[0;34m\u001b[0m\u001b[0;34m\u001b[0m\u001b[0m\n\u001b[1;32m    932\u001b[0m       \u001b[0minitializers\u001b[0m \u001b[0;34m=\u001b[0m \u001b[0;34m[\u001b[0m\u001b[0;34m]\u001b[0m\u001b[0;34m\u001b[0m\u001b[0;34m\u001b[0m\u001b[0m\n\u001b[0;32m--> 933\u001b[0;31m       \u001b[0mself\u001b[0m\u001b[0;34m.\u001b[0m\u001b[0m_initialize\u001b[0m\u001b[0;34m(\u001b[0m\u001b[0margs\u001b[0m\u001b[0;34m,\u001b[0m \u001b[0mkwds\u001b[0m\u001b[0;34m,\u001b[0m \u001b[0madd_initializers_to\u001b[0m\u001b[0;34m=\u001b[0m\u001b[0minitializers\u001b[0m\u001b[0;34m)\u001b[0m\u001b[0;34m\u001b[0m\u001b[0;34m\u001b[0m\u001b[0m\n\u001b[0m\u001b[1;32m    934\u001b[0m     \u001b[0;32mfinally\u001b[0m\u001b[0;34m:\u001b[0m\u001b[0;34m\u001b[0m\u001b[0;34m\u001b[0m\u001b[0m\n\u001b[1;32m    935\u001b[0m       \u001b[0;31m# At this point we know that the initialization is complete (or less\u001b[0m\u001b[0;34m\u001b[0m\u001b[0;34m\u001b[0m\u001b[0;34m\u001b[0m\u001b[0m\n",
      "\u001b[0;32m/opt/conda/lib/python3.7/site-packages/tensorflow/python/eager/def_function.py\u001b[0m in \u001b[0;36m_initialize\u001b[0;34m(self, args, kwds, add_initializers_to)\u001b[0m\n\u001b[1;32m    758\u001b[0m     self._concrete_stateful_fn = (\n\u001b[1;32m    759\u001b[0m         self._stateful_fn._get_concrete_function_internal_garbage_collected(  # pylint: disable=protected-access\n\u001b[0;32m--> 760\u001b[0;31m             *args, **kwds))\n\u001b[0m\u001b[1;32m    761\u001b[0m \u001b[0;34m\u001b[0m\u001b[0m\n\u001b[1;32m    762\u001b[0m     \u001b[0;32mdef\u001b[0m \u001b[0minvalid_creator_scope\u001b[0m\u001b[0;34m(\u001b[0m\u001b[0;34m*\u001b[0m\u001b[0munused_args\u001b[0m\u001b[0;34m,\u001b[0m \u001b[0;34m**\u001b[0m\u001b[0munused_kwds\u001b[0m\u001b[0;34m)\u001b[0m\u001b[0;34m:\u001b[0m\u001b[0;34m\u001b[0m\u001b[0;34m\u001b[0m\u001b[0m\n",
      "\u001b[0;32m/opt/conda/lib/python3.7/site-packages/tensorflow/python/eager/function.py\u001b[0m in \u001b[0;36m_get_concrete_function_internal_garbage_collected\u001b[0;34m(self, *args, **kwargs)\u001b[0m\n\u001b[1;32m   3064\u001b[0m       \u001b[0margs\u001b[0m\u001b[0;34m,\u001b[0m \u001b[0mkwargs\u001b[0m \u001b[0;34m=\u001b[0m \u001b[0;32mNone\u001b[0m\u001b[0;34m,\u001b[0m \u001b[0;32mNone\u001b[0m\u001b[0;34m\u001b[0m\u001b[0;34m\u001b[0m\u001b[0m\n\u001b[1;32m   3065\u001b[0m     \u001b[0;32mwith\u001b[0m \u001b[0mself\u001b[0m\u001b[0;34m.\u001b[0m\u001b[0m_lock\u001b[0m\u001b[0;34m:\u001b[0m\u001b[0;34m\u001b[0m\u001b[0;34m\u001b[0m\u001b[0m\n\u001b[0;32m-> 3066\u001b[0;31m       \u001b[0mgraph_function\u001b[0m\u001b[0;34m,\u001b[0m \u001b[0m_\u001b[0m \u001b[0;34m=\u001b[0m \u001b[0mself\u001b[0m\u001b[0;34m.\u001b[0m\u001b[0m_maybe_define_function\u001b[0m\u001b[0;34m(\u001b[0m\u001b[0margs\u001b[0m\u001b[0;34m,\u001b[0m \u001b[0mkwargs\u001b[0m\u001b[0;34m)\u001b[0m\u001b[0;34m\u001b[0m\u001b[0;34m\u001b[0m\u001b[0m\n\u001b[0m\u001b[1;32m   3067\u001b[0m     \u001b[0;32mreturn\u001b[0m \u001b[0mgraph_function\u001b[0m\u001b[0;34m\u001b[0m\u001b[0;34m\u001b[0m\u001b[0m\n\u001b[1;32m   3068\u001b[0m \u001b[0;34m\u001b[0m\u001b[0m\n",
      "\u001b[0;32m/opt/conda/lib/python3.7/site-packages/tensorflow/python/eager/function.py\u001b[0m in \u001b[0;36m_maybe_define_function\u001b[0;34m(self, args, kwargs)\u001b[0m\n\u001b[1;32m   3461\u001b[0m \u001b[0;34m\u001b[0m\u001b[0m\n\u001b[1;32m   3462\u001b[0m           \u001b[0mself\u001b[0m\u001b[0;34m.\u001b[0m\u001b[0m_function_cache\u001b[0m\u001b[0;34m.\u001b[0m\u001b[0mmissed\u001b[0m\u001b[0;34m.\u001b[0m\u001b[0madd\u001b[0m\u001b[0;34m(\u001b[0m\u001b[0mcall_context_key\u001b[0m\u001b[0;34m)\u001b[0m\u001b[0;34m\u001b[0m\u001b[0;34m\u001b[0m\u001b[0m\n\u001b[0;32m-> 3463\u001b[0;31m           \u001b[0mgraph_function\u001b[0m \u001b[0;34m=\u001b[0m \u001b[0mself\u001b[0m\u001b[0;34m.\u001b[0m\u001b[0m_create_graph_function\u001b[0m\u001b[0;34m(\u001b[0m\u001b[0margs\u001b[0m\u001b[0;34m,\u001b[0m \u001b[0mkwargs\u001b[0m\u001b[0;34m)\u001b[0m\u001b[0;34m\u001b[0m\u001b[0;34m\u001b[0m\u001b[0m\n\u001b[0m\u001b[1;32m   3464\u001b[0m           \u001b[0mself\u001b[0m\u001b[0;34m.\u001b[0m\u001b[0m_function_cache\u001b[0m\u001b[0;34m.\u001b[0m\u001b[0mprimary\u001b[0m\u001b[0;34m[\u001b[0m\u001b[0mcache_key\u001b[0m\u001b[0;34m]\u001b[0m \u001b[0;34m=\u001b[0m \u001b[0mgraph_function\u001b[0m\u001b[0;34m\u001b[0m\u001b[0;34m\u001b[0m\u001b[0m\n\u001b[1;32m   3465\u001b[0m \u001b[0;34m\u001b[0m\u001b[0m\n",
      "\u001b[0;32m/opt/conda/lib/python3.7/site-packages/tensorflow/python/eager/function.py\u001b[0m in \u001b[0;36m_create_graph_function\u001b[0;34m(self, args, kwargs, override_flat_arg_shapes)\u001b[0m\n\u001b[1;32m   3306\u001b[0m             \u001b[0marg_names\u001b[0m\u001b[0;34m=\u001b[0m\u001b[0marg_names\u001b[0m\u001b[0;34m,\u001b[0m\u001b[0;34m\u001b[0m\u001b[0;34m\u001b[0m\u001b[0m\n\u001b[1;32m   3307\u001b[0m             \u001b[0moverride_flat_arg_shapes\u001b[0m\u001b[0;34m=\u001b[0m\u001b[0moverride_flat_arg_shapes\u001b[0m\u001b[0;34m,\u001b[0m\u001b[0;34m\u001b[0m\u001b[0;34m\u001b[0m\u001b[0m\n\u001b[0;32m-> 3308\u001b[0;31m             capture_by_value=self._capture_by_value),\n\u001b[0m\u001b[1;32m   3309\u001b[0m         \u001b[0mself\u001b[0m\u001b[0;34m.\u001b[0m\u001b[0m_function_attributes\u001b[0m\u001b[0;34m,\u001b[0m\u001b[0;34m\u001b[0m\u001b[0;34m\u001b[0m\u001b[0m\n\u001b[1;32m   3310\u001b[0m         \u001b[0mfunction_spec\u001b[0m\u001b[0;34m=\u001b[0m\u001b[0mself\u001b[0m\u001b[0;34m.\u001b[0m\u001b[0mfunction_spec\u001b[0m\u001b[0;34m,\u001b[0m\u001b[0;34m\u001b[0m\u001b[0;34m\u001b[0m\u001b[0m\n",
      "\u001b[0;32m/opt/conda/lib/python3.7/site-packages/tensorflow/python/framework/func_graph.py\u001b[0m in \u001b[0;36mfunc_graph_from_py_func\u001b[0;34m(name, python_func, args, kwargs, signature, func_graph, autograph, autograph_options, add_control_dependencies, arg_names, op_return_value, collections, capture_by_value, override_flat_arg_shapes, acd_record_initial_resource_uses)\u001b[0m\n\u001b[1;32m   1005\u001b[0m         \u001b[0m_\u001b[0m\u001b[0;34m,\u001b[0m \u001b[0moriginal_func\u001b[0m \u001b[0;34m=\u001b[0m \u001b[0mtf_decorator\u001b[0m\u001b[0;34m.\u001b[0m\u001b[0munwrap\u001b[0m\u001b[0;34m(\u001b[0m\u001b[0mpython_func\u001b[0m\u001b[0;34m)\u001b[0m\u001b[0;34m\u001b[0m\u001b[0;34m\u001b[0m\u001b[0m\n\u001b[1;32m   1006\u001b[0m \u001b[0;34m\u001b[0m\u001b[0m\n\u001b[0;32m-> 1007\u001b[0;31m       \u001b[0mfunc_outputs\u001b[0m \u001b[0;34m=\u001b[0m \u001b[0mpython_func\u001b[0m\u001b[0;34m(\u001b[0m\u001b[0;34m*\u001b[0m\u001b[0mfunc_args\u001b[0m\u001b[0;34m,\u001b[0m \u001b[0;34m**\u001b[0m\u001b[0mfunc_kwargs\u001b[0m\u001b[0;34m)\u001b[0m\u001b[0;34m\u001b[0m\u001b[0;34m\u001b[0m\u001b[0m\n\u001b[0m\u001b[1;32m   1008\u001b[0m \u001b[0;34m\u001b[0m\u001b[0m\n\u001b[1;32m   1009\u001b[0m       \u001b[0;31m# invariant: `func_outputs` contains only Tensors, CompositeTensors,\u001b[0m\u001b[0;34m\u001b[0m\u001b[0;34m\u001b[0m\u001b[0;34m\u001b[0m\u001b[0m\n",
      "\u001b[0;32m/opt/conda/lib/python3.7/site-packages/tensorflow/python/eager/def_function.py\u001b[0m in \u001b[0;36mwrapped_fn\u001b[0;34m(*args, **kwds)\u001b[0m\n\u001b[1;32m    666\u001b[0m         \u001b[0;31m# the function a weak reference to itself to avoid a reference cycle.\u001b[0m\u001b[0;34m\u001b[0m\u001b[0;34m\u001b[0m\u001b[0;34m\u001b[0m\u001b[0m\n\u001b[1;32m    667\u001b[0m         \u001b[0;32mwith\u001b[0m \u001b[0mOptionalXlaContext\u001b[0m\u001b[0;34m(\u001b[0m\u001b[0mcompile_with_xla\u001b[0m\u001b[0;34m)\u001b[0m\u001b[0;34m:\u001b[0m\u001b[0;34m\u001b[0m\u001b[0;34m\u001b[0m\u001b[0m\n\u001b[0;32m--> 668\u001b[0;31m           \u001b[0mout\u001b[0m \u001b[0;34m=\u001b[0m \u001b[0mweak_wrapped_fn\u001b[0m\u001b[0;34m(\u001b[0m\u001b[0;34m)\u001b[0m\u001b[0;34m.\u001b[0m\u001b[0m__wrapped__\u001b[0m\u001b[0;34m(\u001b[0m\u001b[0;34m*\u001b[0m\u001b[0margs\u001b[0m\u001b[0;34m,\u001b[0m \u001b[0;34m**\u001b[0m\u001b[0mkwds\u001b[0m\u001b[0;34m)\u001b[0m\u001b[0;34m\u001b[0m\u001b[0;34m\u001b[0m\u001b[0m\n\u001b[0m\u001b[1;32m    669\u001b[0m         \u001b[0;32mreturn\u001b[0m \u001b[0mout\u001b[0m\u001b[0;34m\u001b[0m\u001b[0;34m\u001b[0m\u001b[0m\n\u001b[1;32m    670\u001b[0m \u001b[0;34m\u001b[0m\u001b[0m\n",
      "\u001b[0;32m/opt/conda/lib/python3.7/site-packages/tensorflow/python/framework/func_graph.py\u001b[0m in \u001b[0;36mwrapper\u001b[0;34m(*args, **kwargs)\u001b[0m\n\u001b[1;32m    992\u001b[0m           \u001b[0;32mexcept\u001b[0m \u001b[0mException\u001b[0m \u001b[0;32mas\u001b[0m \u001b[0me\u001b[0m\u001b[0;34m:\u001b[0m  \u001b[0;31m# pylint:disable=broad-except\u001b[0m\u001b[0;34m\u001b[0m\u001b[0;34m\u001b[0m\u001b[0m\n\u001b[1;32m    993\u001b[0m             \u001b[0;32mif\u001b[0m \u001b[0mhasattr\u001b[0m\u001b[0;34m(\u001b[0m\u001b[0me\u001b[0m\u001b[0;34m,\u001b[0m \u001b[0;34m\"ag_error_metadata\"\u001b[0m\u001b[0;34m)\u001b[0m\u001b[0;34m:\u001b[0m\u001b[0;34m\u001b[0m\u001b[0;34m\u001b[0m\u001b[0m\n\u001b[0;32m--> 994\u001b[0;31m               \u001b[0;32mraise\u001b[0m \u001b[0me\u001b[0m\u001b[0;34m.\u001b[0m\u001b[0mag_error_metadata\u001b[0m\u001b[0;34m.\u001b[0m\u001b[0mto_exception\u001b[0m\u001b[0;34m(\u001b[0m\u001b[0me\u001b[0m\u001b[0;34m)\u001b[0m\u001b[0;34m\u001b[0m\u001b[0;34m\u001b[0m\u001b[0m\n\u001b[0m\u001b[1;32m    995\u001b[0m             \u001b[0;32melse\u001b[0m\u001b[0;34m:\u001b[0m\u001b[0;34m\u001b[0m\u001b[0;34m\u001b[0m\u001b[0m\n\u001b[1;32m    996\u001b[0m               \u001b[0;32mraise\u001b[0m\u001b[0;34m\u001b[0m\u001b[0;34m\u001b[0m\u001b[0m\n",
      "\u001b[0;31mValueError\u001b[0m: in user code:\n\n    /opt/conda/lib/python3.7/site-packages/keras/engine/training.py:853 train_function  *\n        return step_function(self, iterator)\n    /opt/conda/lib/python3.7/site-packages/keras/engine/training.py:842 step_function  **\n        outputs = model.distribute_strategy.run(run_step, args=(data,))\n    /opt/conda/lib/python3.7/site-packages/tensorflow/python/distribute/distribute_lib.py:1286 run\n        return self._extended.call_for_each_replica(fn, args=args, kwargs=kwargs)\n    /opt/conda/lib/python3.7/site-packages/tensorflow/python/distribute/distribute_lib.py:2849 call_for_each_replica\n        return self._call_for_each_replica(fn, args, kwargs)\n    /opt/conda/lib/python3.7/site-packages/tensorflow/python/distribute/distribute_lib.py:3632 _call_for_each_replica\n        return fn(*args, **kwargs)\n    /opt/conda/lib/python3.7/site-packages/keras/engine/training.py:835 run_step  **\n        outputs = model.train_step(data)\n    /opt/conda/lib/python3.7/site-packages/keras/engine/training.py:792 train_step\n        self.compiled_metrics.update_state(y, y_pred, sample_weight)\n    /opt/conda/lib/python3.7/site-packages/keras/engine/compile_utils.py:457 update_state\n        metric_obj.update_state(y_t, y_p, sample_weight=mask)\n    /opt/conda/lib/python3.7/site-packages/keras/utils/metrics_utils.py:73 decorated\n        update_op = update_state_fn(*args, **kwargs)\n    /opt/conda/lib/python3.7/site-packages/keras/metrics.py:177 update_state_fn\n        return ag_update_state(*args, **kwargs)\n    /opt/conda/lib/python3.7/site-packages/keras/metrics.py:1366 update_state  **\n        sample_weight=sample_weight)\n    /opt/conda/lib/python3.7/site-packages/keras/utils/metrics_utils.py:623 update_confusion_matrix_variables\n        y_pred.shape.assert_is_compatible_with(y_true.shape)\n    /opt/conda/lib/python3.7/site-packages/tensorflow/python/framework/tensor_shape.py:1161 assert_is_compatible_with\n        raise ValueError(\"Shapes %s and %s are incompatible\" % (self, other))\n\n    ValueError: Shapes (None, 256) and (None, 1) are incompatible\n"
     ]
    }
   ],
   "source": [
    "model = build_model(bert_layer, max_len=160)\n",
    "model.summary()\n",
    "\n",
    "# Fit the model\n",
    "model.fit(train_input,train_labels, epochs=5, batch_size=20)"
   ]
  },
  {
   "cell_type": "code",
   "execution_count": null,
   "id": "6c2ce631",
   "metadata": {
    "execution": {
     "iopub.execute_input": "2022-03-06T04:40:37.501416Z",
     "iopub.status.busy": "2022-03-06T04:40:37.500353Z",
     "iopub.status.idle": "2022-03-06T04:41:28.969655Z",
     "shell.execute_reply": "2022-03-06T04:41:28.968468Z",
     "shell.execute_reply.started": "2022-03-06T04:40:37.501367Z"
    },
    "papermill": {
     "duration": null,
     "end_time": null,
     "exception": null,
     "start_time": null,
     "status": "pending"
    },
    "tags": []
   },
   "outputs": [],
   "source": [
    "model.save(\"eclipse_bert_cnn\")"
   ]
  },
  {
   "cell_type": "code",
   "execution_count": null,
   "id": "ebd17fd9",
   "metadata": {
    "execution": {
     "iopub.execute_input": "2022-03-06T04:41:28.989981Z",
     "iopub.status.busy": "2022-03-06T04:41:28.986957Z",
     "iopub.status.idle": "2022-03-06T04:50:35.1451Z",
     "shell.execute_reply": "2022-03-06T04:50:35.144075Z",
     "shell.execute_reply.started": "2022-03-06T04:41:28.989914Z"
    },
    "papermill": {
     "duration": null,
     "end_time": null,
     "exception": null,
     "start_time": null,
     "status": "pending"
    },
    "tags": []
   },
   "outputs": [],
   "source": [
    "test_input = bert_encode(test['description'], tokenizer, max_len=160)\n",
    "test_labels = np.array(test.duplicate.values, dtype='int')"
   ]
  },
  {
   "cell_type": "code",
   "execution_count": null,
   "id": "495e43cf",
   "metadata": {
    "execution": {
     "iopub.execute_input": "2022-03-06T04:50:35.147228Z",
     "iopub.status.busy": "2022-03-06T04:50:35.146678Z",
     "iopub.status.idle": "2022-03-06T05:05:42.408515Z",
     "shell.execute_reply": "2022-03-06T05:05:42.407464Z",
     "shell.execute_reply.started": "2022-03-06T04:50:35.147183Z"
    },
    "papermill": {
     "duration": null,
     "end_time": null,
     "exception": null,
     "start_time": null,
     "status": "pending"
    },
    "tags": []
   },
   "outputs": [],
   "source": [
    "scores = model.evaluate(test_input, test_labels, verbose=0)\n",
    "f1score = (2 * scores[2]*100 * scores[3]*100)/(scores[2]*100 + scores[3]*100)\n",
    "print(\"%s: %.2f%%\" % (model.metrics_names[1], scores[1]*100))\n",
    "print(\"%s: %.2f%%\" % (model.metrics_names[2], scores[2]*100))\n",
    "print(\"%s: %.2f%%\" % (model.metrics_names[3], scores[3]*100))\n",
    "print(\"f1 score: \", (f1score))"
   ]
  },
  {
   "cell_type": "code",
   "execution_count": null,
   "id": "e6101e26",
   "metadata": {
    "papermill": {
     "duration": null,
     "end_time": null,
     "exception": null,
     "start_time": null,
     "status": "pending"
    },
    "tags": []
   },
   "outputs": [],
   "source": []
  },
  {
   "cell_type": "code",
   "execution_count": null,
   "id": "9cb7a207",
   "metadata": {
    "execution": {
     "iopub.execute_input": "2022-03-06T05:05:42.410899Z",
     "iopub.status.busy": "2022-03-06T05:05:42.41021Z",
     "iopub.status.idle": "2022-03-06T05:05:42.416818Z",
     "shell.execute_reply": "2022-03-06T05:05:42.41574Z",
     "shell.execute_reply.started": "2022-03-06T05:05:42.41084Z"
    },
    "papermill": {
     "duration": null,
     "end_time": null,
     "exception": null,
     "start_time": null,
     "status": "pending"
    },
    "tags": []
   },
   "outputs": [],
   "source": [
    "# train_input = bert_encode(dataset['description'], tokenizer, max_len=160)\n",
    "# test_input = bert_encode(test['description'], tokenizer, max_len=160)\n",
    "# train_labels = np.array(train.duplicate.values, dtype='int')\n",
    "# test_labels = np.array(test.duplicate.values, dtype='int')"
   ]
  },
  {
   "cell_type": "code",
   "execution_count": null,
   "id": "0f7b1df2",
   "metadata": {
    "execution": {
     "iopub.execute_input": "2022-03-06T05:05:42.419895Z",
     "iopub.status.busy": "2022-03-06T05:05:42.418587Z",
     "iopub.status.idle": "2022-03-06T05:05:42.429029Z",
     "shell.execute_reply": "2022-03-06T05:05:42.428018Z",
     "shell.execute_reply.started": "2022-03-06T05:05:42.419846Z"
    },
    "papermill": {
     "duration": null,
     "end_time": null,
     "exception": null,
     "start_time": null,
     "status": "pending"
    },
    "tags": []
   },
   "outputs": [],
   "source": [
    "# max_len = 0\n",
    "# lenArr = []\n",
    "# outliers = []\n",
    "\n",
    "# for index, row in dataset.iterrows():\n",
    "#     # print(train.loc[[index]]['description'])\n",
    "#     length = max([len(s.split()) for s in dataset.loc[[index]]['description']])\n",
    "#     if(length <1000):\n",
    "#         lenArr.append(length)\n",
    "# #     print(length)\n",
    "#         if(max_len < length):\n",
    "#           max_len = length\n",
    "#     else:\n",
    "#         outliers.append(length)\n",
    "\n",
    "# # q25, q75 = np.percentile(lenArr, [25, 75])\n",
    "# # bin_width = 2 * (q75 - q25) * len(lenArr) ** (-1/3)\n",
    "# # bins = round((lenArr.max() - lenArr.min()) / bin_width)\n",
    "# print(len(lenArr))\n",
    "# # lenArr=list(filter(lambda a: a != 3395, lenArr))\n",
    "# # print(lenArr)\n",
    "# print(\"avg\", sum(lenArr)/len(lenArr))\n",
    "# print(\"outliers\", outliers)\n",
    "# print(\"outliers\", len(outliers))\n",
    "# plt.hist(lenArr, density=True, bins=30)\n",
    "# max_len"
   ]
  },
  {
   "cell_type": "code",
   "execution_count": null,
   "id": "f7602e68",
   "metadata": {
    "execution": {
     "iopub.execute_input": "2022-03-06T05:05:42.433573Z",
     "iopub.status.busy": "2022-03-06T05:05:42.432669Z",
     "iopub.status.idle": "2022-03-06T05:05:42.441546Z",
     "shell.execute_reply": "2022-03-06T05:05:42.440403Z",
     "shell.execute_reply.started": "2022-03-06T05:05:42.433524Z"
    },
    "papermill": {
     "duration": null,
     "end_time": null,
     "exception": null,
     "start_time": null,
     "status": "pending"
    },
    "tags": []
   },
   "outputs": [],
   "source": [
    "# model = build_model(bert_layer, max_len=160)\n",
    "# model.summary()"
   ]
  },
  {
   "cell_type": "code",
   "execution_count": null,
   "id": "2e588d99",
   "metadata": {
    "execution": {
     "iopub.execute_input": "2022-03-06T05:05:42.444665Z",
     "iopub.status.busy": "2022-03-06T05:05:42.443762Z",
     "iopub.status.idle": "2022-03-06T05:05:42.452436Z",
     "shell.execute_reply": "2022-03-06T05:05:42.451278Z",
     "shell.execute_reply.started": "2022-03-06T05:05:42.444615Z"
    },
    "papermill": {
     "duration": null,
     "end_time": null,
     "exception": null,
     "start_time": null,
     "status": "pending"
    },
    "tags": []
   },
   "outputs": [],
   "source": [
    "# train_history = model.fit(\n",
    "#     train_input, train_labels,\n",
    "#     validation_split=0.3,\n",
    "#     epochs=5,\n",
    "#     batch_size=50\n",
    "# )"
   ]
  },
  {
   "cell_type": "code",
   "execution_count": null,
   "id": "eb23887e",
   "metadata": {
    "execution": {
     "iopub.execute_input": "2022-03-06T05:05:42.45561Z",
     "iopub.status.busy": "2022-03-06T05:05:42.4547Z",
     "iopub.status.idle": "2022-03-06T05:05:42.462764Z",
     "shell.execute_reply": "2022-03-06T05:05:42.461606Z",
     "shell.execute_reply.started": "2022-03-06T05:05:42.45556Z"
    },
    "papermill": {
     "duration": null,
     "end_time": null,
     "exception": null,
     "start_time": null,
     "status": "pending"
    },
    "tags": []
   },
   "outputs": [],
   "source": [
    "# evaluation_results = model.evaluate(test_input,test_labels,return_dict=True)\n",
    "# evaluation_results"
   ]
  },
  {
   "cell_type": "code",
   "execution_count": null,
   "id": "e80f8451",
   "metadata": {
    "_kg_hide-output": false,
    "execution": {
     "iopub.execute_input": "2022-03-06T05:05:42.465799Z",
     "iopub.status.busy": "2022-03-06T05:05:42.464961Z",
     "iopub.status.idle": "2022-03-06T05:05:42.474269Z",
     "shell.execute_reply": "2022-03-06T05:05:42.473179Z",
     "shell.execute_reply.started": "2022-03-06T05:05:42.465654Z"
    },
    "papermill": {
     "duration": null,
     "end_time": null,
     "exception": null,
     "start_time": null,
     "status": "pending"
    },
    "scrolled": true,
    "tags": []
   },
   "outputs": [],
   "source": [
    "# X = dataset['description']\n",
    "# Y = np.array(dataset.duplicate.values, dtype='int')\n",
    "\n",
    "# kfold = StratifiedKFold()\n",
    "# cvscores = []\n",
    "# precision_scores = []\n",
    "# recall_scores = []\n",
    "# f1_scores = []\n",
    "    \n",
    "# for train, test in kfold.split(X, Y):\n",
    "#     # Prepare data\n",
    "#     train_input = bert_encode(X.iloc[train], tokenizer, max_len=160)\n",
    "#     test_input = bert_encode(X.iloc[test], tokenizer, max_len=160)\n",
    "#     train_labels = Y[train]\n",
    "#     test_labels = Y[test]\n",
    "    \n",
    "#     model = build_model(bert_layer, max_len=160)\n",
    "#     model.summary()\n",
    "\n",
    "#     # Fit the model\n",
    "#     model.fit(train_input,train_labels, epochs=2, batch_size=15)\n",
    "\n",
    "#     # Evaluate the model\n",
    "#     scores = model.evaluate(test_input, test_labels, verbose=0)\n",
    "#     f1score = (2 * scores[2]*100 * scores[3]*100)/(scores[2]*100 + scores[3]*100)\n",
    "#     print(\"%s: %.2f%%\" % (model.metrics_names[1], scores[1]*100))\n",
    "#     print(\"%s: %.2f%%\" % (model.metrics_names[2], scores[2]*100))\n",
    "#     print(\"%s: %.2f%%\" % (model.metrics_names[3], scores[3]*100))\n",
    "#     print(\"f1 score: \", (f1score))\n",
    "#     cvscores.append(scores[1] * 100)\n",
    "#     precision_scores.append(scores[2] * 100)\n",
    "#     recall_scores.append(scores[3] * 100)\n",
    "#     f1_scores.append(f1score)\n",
    "    \n",
    "\n",
    "# print(\"accuracy: %.2f%% (+/- %.2f%%)\" % (np.mean(cvscores), np.std(cvscores)))\n",
    "# print(\"precision: %.2f%% (+/- %.2f%%)\" % (np.mean(precision_scores), np.std(precision_scores)))\n",
    "# print(\"recall: %.2f%% (+/- %.2f%%)\" % (np.mean(recall_scores), np.std(recall_scores)))\n",
    "# print(\"f1 score: %.2f%% (+/- %.2f%%)\" % (np.mean(f1_scores), np.std(f1_scores)))"
   ]
  }
 ],
 "metadata": {
  "kernelspec": {
   "display_name": "Python 3",
   "language": "python",
   "name": "python3"
  },
  "language_info": {
   "codemirror_mode": {
    "name": "ipython",
    "version": 3
   },
   "file_extension": ".py",
   "mimetype": "text/x-python",
   "name": "python",
   "nbconvert_exporter": "python",
   "pygments_lexer": "ipython3",
   "version": "3.7.12"
  },
  "papermill": {
   "default_parameters": {},
   "duration": 6947.159599,
   "end_time": "2022-03-20T14:29:50.801470",
   "environment_variables": {},
   "exception": true,
   "input_path": "__notebook__.ipynb",
   "output_path": "__notebook__.ipynb",
   "parameters": {},
   "start_time": "2022-03-20T12:34:03.641871",
   "version": "2.3.3"
  }
 },
 "nbformat": 4,
 "nbformat_minor": 5
}
